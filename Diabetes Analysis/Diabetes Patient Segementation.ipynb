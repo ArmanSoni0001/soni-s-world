{
 "cells": [
  {
   "cell_type": "markdown",
   "id": "2b6573b2",
   "metadata": {},
   "source": [
    "# Diabetes Cluster Analysis"
   ]
  },
  {
   "cell_type": "markdown",
   "id": "6e39a02d",
   "metadata": {},
   "source": [
    "Aim: Clustering on the diabetes dataset on behaviour of different people and drwaing useful insights"
   ]
  },
  {
   "cell_type": "markdown",
   "id": "99434639",
   "metadata": {},
   "source": [
    "To perform the clustering, we would first import basic libraries and the required dataset"
   ]
  },
  {
   "cell_type": "code",
   "execution_count": null,
   "id": "14d44de5",
   "metadata": {},
   "outputs": [],
   "source": [
    "import pandas as pd\n",
    "import numpy as np\n",
    "import seaborn as sns\n",
    "import matplotlib.pyplot as plt"
   ]
  },
  {
   "cell_type": "code",
   "execution_count": null,
   "id": "335d4b1c",
   "metadata": {},
   "outputs": [],
   "source": [
    "data=pd.read_csv('C:\\\\Users\\\\Arman Soni\\\\OneDrive\\\\Desktop\\\\JU\\\\ML\\\\diabetic_data.csv',na_values=['?'])\n",
    "data"
   ]
  },
  {
   "cell_type": "code",
   "execution_count": null,
   "id": "e0fec0b4",
   "metadata": {},
   "outputs": [],
   "source": [
    "#info column helps in giving the null values and the column present in datasets\n",
    "print(data.info())"
   ]
  },
  {
   "cell_type": "code",
   "execution_count": null,
   "id": "9378ec90",
   "metadata": {},
   "outputs": [],
   "source": [
    "#describe code gives the description of the dataset\n",
    "data.describe()"
   ]
  },
  {
   "cell_type": "markdown",
   "id": "123fa992",
   "metadata": {},
   "source": [
    "Weight Analysis"
   ]
  },
  {
   "cell_type": "code",
   "execution_count": null,
   "id": "ee0329f8",
   "metadata": {},
   "outputs": [],
   "source": [
    "print(\"the null values in weight column is :\", data['weight'].isnull().sum()/101766)"
   ]
  },
  {
   "cell_type": "markdown",
   "id": "d5f85d62",
   "metadata": {},
   "source": [
    "As we see that out of 101766 elements, 98569 data is empty which is approx 96% empty and hence we will drop the column"
   ]
  },
  {
   "cell_type": "code",
   "execution_count": null,
   "id": "cbfe7033",
   "metadata": {},
   "outputs": [],
   "source": [
    "data1=data.drop('weight',axis=1)\n",
    "data1"
   ]
  },
  {
   "cell_type": "markdown",
   "id": "49b24f7f",
   "metadata": {},
   "source": [
    "Gender Analysis"
   ]
  },
  {
   "cell_type": "code",
   "execution_count": null,
   "id": "7cea4711",
   "metadata": {},
   "outputs": [],
   "source": [
    "print('the unique values in the gender column is:',data1[\"gender\"].unique())"
   ]
  },
  {
   "cell_type": "code",
   "execution_count": null,
   "id": "384e2f63",
   "metadata": {},
   "outputs": [],
   "source": [
    "data1.gender.value_counts()"
   ]
  },
  {
   "cell_type": "markdown",
   "id": "9fdc5100",
   "metadata": {},
   "source": [
    "Out of 101766 only 3 rows are filled with unknown gender and hence there are no issues removing it"
   ]
  },
  {
   "cell_type": "code",
   "execution_count": null,
   "id": "90d70ac1",
   "metadata": {},
   "outputs": [],
   "source": [
    "gender_index = data1[data1.gender == 'Unknown/Invalid'].index\n",
    "data1=data1.drop(gender_index, axis=0)"
   ]
  },
  {
   "cell_type": "code",
   "execution_count": null,
   "id": "d12d9a86",
   "metadata": {},
   "outputs": [],
   "source": [
    "data1"
   ]
  },
  {
   "cell_type": "markdown",
   "id": "08467b5e",
   "metadata": {},
   "source": [
    "Race Analysis"
   ]
  },
  {
   "cell_type": "code",
   "execution_count": null,
   "id": "bec85b61",
   "metadata": {},
   "outputs": [],
   "source": [
    "print(\"the null values in race column is :\",data1['race'].isnull().sum())"
   ]
  },
  {
   "cell_type": "markdown",
   "id": "944708ad",
   "metadata": {},
   "source": [
    "Instead of removing the null values, we can impute using the mode to maintain the data count"
   ]
  },
  {
   "cell_type": "code",
   "execution_count": null,
   "id": "9c6499ba",
   "metadata": {},
   "outputs": [],
   "source": [
    "mode=data1['race'].mode()[0]\n",
    "data1['race'].fillna(mode,inplace=True)"
   ]
  },
  {
   "cell_type": "code",
   "execution_count": null,
   "id": "cfc1391e",
   "metadata": {},
   "outputs": [],
   "source": [
    "data1.info()"
   ]
  },
  {
   "cell_type": "markdown",
   "id": "3ef4e623",
   "metadata": {},
   "source": [
    "Diagnosis Columns Cleaning"
   ]
  },
  {
   "cell_type": "markdown",
   "id": "a3cecc50",
   "metadata": {},
   "source": [
    "print(\"the null values in diag_1 column is:\",data1['diag_1'].isnull().sum()/101763)\n",
    "print(\"the null values in diag_2 column is:\",data1['diag_2'].isnull().sum()/101763)\n",
    "print(\"the null values in diag_3 column is:\",data1['diag_3'].isnull().sum()/101763)"
   ]
  },
  {
   "cell_type": "markdown",
   "id": "a89b78b1",
   "metadata": {},
   "source": [
    "The null values are hardly 1%, but deletion of rows can reduce the data count,so optimal solution is to impute using mode"
   ]
  },
  {
   "cell_type": "code",
   "execution_count": null,
   "id": "c69e2ff7",
   "metadata": {},
   "outputs": [],
   "source": [
    "data1['diag_1'].fillna(mode,inplace=True)\n",
    "data1['diag_2'].fillna(mode,inplace=True)\n",
    "data1['diag_3'].fillna(mode,inplace=True)"
   ]
  },
  {
   "cell_type": "code",
   "execution_count": null,
   "id": "4039d998",
   "metadata": {},
   "outputs": [],
   "source": [
    "print(\"the null values in diag_1 column is:\",data1['diag_1'].isnull().sum()/101763)\n",
    "print(\"the null values in diag_2 column is:\",data1['diag_2'].isnull().sum()/101763)\n",
    "print(\"the null values in diag_3 column is:\",data1['diag_3'].isnull().sum()/101763)"
   ]
  },
  {
   "cell_type": "raw",
   "id": "ba1fdd41",
   "metadata": {},
   "source": [
    "Payer Code and Medical Specialty analysis"
   ]
  },
  {
   "cell_type": "code",
   "execution_count": null,
   "id": "e9745f74",
   "metadata": {},
   "outputs": [],
   "source": [
    "print(\"the null values in Payer_code column is:\",data1['payer_code'].isnull().sum()/101763)\n",
    "print(\"the null values in medical specialty column is:\",data1['medical_specialty'].isnull().sum()/101763)"
   ]
  },
  {
   "cell_type": "markdown",
   "id": "6de63930",
   "metadata": {},
   "source": [
    "The payer code column has null values which means the client might not know who insured the patient, so we shall replace null values with \"other\""
   ]
  },
  {
   "cell_type": "code",
   "execution_count": null,
   "id": "d5779a4c",
   "metadata": {},
   "outputs": [],
   "source": [
    "data1['payer_code'].fillna('others',inplace=True)\n",
    "data1"
   ]
  },
  {
   "cell_type": "code",
   "execution_count": null,
   "id": "29591e11",
   "metadata": {},
   "outputs": [],
   "source": [
    "unique_values = pd.DataFrame(data1['medical_specialty'].unique(), columns=['medical_specialty_unique_values'])\n",
    "\n",
    "print(unique_values)"
   ]
  },
  {
   "cell_type": "markdown",
   "id": "f24296d1",
   "metadata": {},
   "source": [
    "The null values in medical specialty column shows the absence of reason behind the treatment and hence we would replace with \"not known\""
   ]
  },
  {
   "cell_type": "code",
   "execution_count": null,
   "id": "a8a71080",
   "metadata": {},
   "outputs": [],
   "source": [
    "data1['medical_specialty'].fillna('notknown',inplace=True)\n",
    "data1"
   ]
  },
  {
   "cell_type": "code",
   "execution_count": null,
   "id": "da63a74a",
   "metadata": {},
   "outputs": [],
   "source": [
    "data1.info()"
   ]
  },
  {
   "cell_type": "code",
   "execution_count": null,
   "id": "dbfe11c8",
   "metadata": {},
   "outputs": [],
   "source": [
    "data1['readmitted'].unique()"
   ]
  },
  {
   "cell_type": "markdown",
   "id": "e7927154",
   "metadata": {},
   "source": [
    "Greater and lesser than 30 can be replaced with \"yes\" because it shows presence of readmission and can be helpful in easy analysis"
   ]
  },
  {
   "cell_type": "code",
   "execution_count": null,
   "id": "fafd3289",
   "metadata": {},
   "outputs": [],
   "source": [
    "df = data1.replace(['<30', '>30'], 'YES')"
   ]
  },
  {
   "cell_type": "markdown",
   "id": "9daa31d3",
   "metadata": {},
   "source": [
    "Columns like encounter id and patient_nbr are unique and can be removed to reduce the dimenions"
   ]
  },
  {
   "cell_type": "code",
   "execution_count": null,
   "id": "f08a9137",
   "metadata": {},
   "outputs": [],
   "source": [
    "df=df.drop(['encounter_id','patient_nbr'],axis=1)\n",
    "df"
   ]
  },
  {
   "cell_type": "code",
   "execution_count": null,
   "id": "171b6bba",
   "metadata": {},
   "outputs": [],
   "source": [
    "print('the unique values in examide are:',df['examide'].unique())\n",
    "print('the unique values in citoglipton are:',df['citoglipton'].unique())"
   ]
  },
  {
   "cell_type": "markdown",
   "id": "b06cbc04",
   "metadata": {},
   "source": [
    "The columns examide and citoglipton have only one unique value and thus can be removed as they won't give fruitful insight"
   ]
  },
  {
   "cell_type": "code",
   "execution_count": null,
   "id": "613a0362",
   "metadata": {},
   "outputs": [],
   "source": [
    "df=df.drop(['examide','citoglipton'],axis=1)\n",
    "df"
   ]
  },
  {
   "cell_type": "code",
   "execution_count": null,
   "id": "11a0ada0",
   "metadata": {},
   "outputs": [],
   "source": [
    "print(\"the values in metmorfin-pigo is:\",df['metformin-pioglitazone'].value_counts())\n",
    "print(\"the values in metmorfin-rosi is:\",df['metformin-rosiglitazone'].value_counts())\n",
    "print(\"the values in glimepiride-piog is:\",df['glimepiride-pioglitazone'].value_counts())\n",
    "print(\"the values in glimepiride-piog is:\",df['glimepiride-pioglitazone'].value_counts())\n"
   ]
  },
  {
   "cell_type": "markdown",
   "id": "8fb5ffa6",
   "metadata": {},
   "source": [
    "In the above columns 99% of the data is 'no' and the other 1% is a different value and thus can be removed because its almost same as the column having the same value"
   ]
  },
  {
   "cell_type": "code",
   "execution_count": null,
   "id": "fc573e0c",
   "metadata": {},
   "outputs": [],
   "source": [
    "df=df.drop(['metformin-pioglitazone','metformin-rosiglitazone','glimepiride-pioglitazone','glimepiride-pioglitazone'],axis=1)\n",
    "df"
   ]
  },
  {
   "cell_type": "code",
   "execution_count": null,
   "id": "39590591",
   "metadata": {},
   "outputs": [],
   "source": [
    "df.info()"
   ]
  },
  {
   "cell_type": "markdown",
   "id": "3d098849",
   "metadata": {},
   "source": [
    "Data is clean and processed"
   ]
  },
  {
   "cell_type": "markdown",
   "id": "4c1ecc9f",
   "metadata": {},
   "source": [
    "# Label Encoding"
   ]
  },
  {
   "cell_type": "code",
   "execution_count": null,
   "id": "526b28e4",
   "metadata": {},
   "outputs": [],
   "source": [
    "from sklearn.preprocessing import LabelEncoder\n",
    "\n",
    "# Create a LabelEncoder object\n",
    "le = LabelEncoder()\n",
    "\n",
    "# Iterate over all columns except 'race'\n",
    "for col in df.columns:\n",
    "    if col not in ['race']:\n",
    "        df[col] = le.fit_transform(df[col])\n"
   ]
  },
  {
   "cell_type": "markdown",
   "id": "40513bb2",
   "metadata": {},
   "source": [
    "Label Encoding has been imputed to all columns except race to convert the data type and also helping in easy analysis\n",
    "Race column will be manually imputed with label for easy rememberance"
   ]
  },
  {
   "cell_type": "code",
   "execution_count": null,
   "id": "09802342",
   "metadata": {},
   "outputs": [],
   "source": [
    "df['race'] = df['race'].replace(['Caucasian'], 0)\n",
    "df['race'] = df['race'].replace(['AfricanAmerican'], 1)\n",
    "df['race'] = df['race'].replace(['Other'], 2)\n",
    "df['race'] = df['race'].replace(['Asian'], 3)\n",
    "df['race'] = df['race'].replace(['Hispanic'], 4)\n",
    "\n",
    "df['race'].unique()"
   ]
  },
  {
   "cell_type": "code",
   "execution_count": null,
   "id": "98ffe79b",
   "metadata": {},
   "outputs": [],
   "source": [
    "df"
   ]
  },
  {
   "cell_type": "code",
   "execution_count": null,
   "id": "58aed05e",
   "metadata": {},
   "outputs": [],
   "source": [
    "#caucasian-0\n",
    "#african american 1\n",
    "#other 2\n",
    "#asian 3\n",
    "#hispanic 4"
   ]
  },
  {
   "cell_type": "markdown",
   "id": "ea5c21ae",
   "metadata": {},
   "source": [
    "# Standard Scaler"
   ]
  },
  {
   "cell_type": "markdown",
   "id": "2a944a9e",
   "metadata": {},
   "source": [
    "Standard Scaling brings all columns to a particular range of 0 and 1"
   ]
  },
  {
   "cell_type": "code",
   "execution_count": null,
   "id": "50f07827",
   "metadata": {},
   "outputs": [],
   "source": [
    "from sklearn.preprocessing import StandardScaler\n",
    "scaler = StandardScaler()\n",
    "scaler.fit(df)\n",
    "scaled_df = pd.DataFrame(scaler.transform(df),columns= df.columns )"
   ]
  },
  {
   "cell_type": "code",
   "execution_count": null,
   "id": "9eb7031c",
   "metadata": {},
   "outputs": [],
   "source": [
    "scaled_df"
   ]
  },
  {
   "cell_type": "markdown",
   "id": "2a8a8775",
   "metadata": {},
   "source": [
    "# PCA"
   ]
  },
  {
   "cell_type": "markdown",
   "id": "26f4d549",
   "metadata": {},
   "source": [
    "PCA helps in reducing the dimensions equivalent to the original dataset. This process helps in forming better clusters and more accurate result"
   ]
  },
  {
   "cell_type": "code",
   "execution_count": null,
   "id": "04c57f7d",
   "metadata": {},
   "outputs": [],
   "source": [
    "from sklearn.decomposition import PCA\n",
    "pca = PCA(n_components=3)\n",
    "pca.fit(scaled_df)\n",
    "PCA_df = pd.DataFrame(pca.transform(scaled_df), columns=([\"col1\",\"col2\", \"col3\"]))\n",
    "PCA_df.describe().T"
   ]
  },
  {
   "cell_type": "markdown",
   "id": "e5a90fe7",
   "metadata": {},
   "source": [
    "# Elbow Visualiser\n",
    "##elbow visualiser recommends the best amount of cluster needed to cluster the data according to the features"
   ]
  },
  {
   "cell_type": "code",
   "execution_count": null,
   "id": "a29a9859",
   "metadata": {},
   "outputs": [],
   "source": [
    "from yellowbrick.cluster import KElbowVisualizer\n",
    "from sklearn.datasets import make_blobs\n",
    "from sklearn.cluster import KMeans\n",
    "Elbow_M = KElbowVisualizer(KMeans(), k=13)\n",
    "Elbow_M.fit(PCA_df)\n",
    "Elbow_M.show()"
   ]
  },
  {
   "cell_type": "code",
   "execution_count": null,
   "id": "374d5d26",
   "metadata": {},
   "outputs": [],
   "source": [
    "from matplotlib.colors import ListedColormap\n",
    "from sklearn import metrics\n",
    "import warnings\n",
    "import sys\n",
    "kmeans = KMeans(n_clusters=5, init='k-means++', n_init=10, random_state=42)\n",
    "kmeans.fit(PCA_df)\n",
    "labels_optimal = kmeans.labels_"
   ]
  },
  {
   "cell_type": "code",
   "execution_count": null,
   "id": "235a9fba",
   "metadata": {},
   "outputs": [],
   "source": [
    "plt.scatter(PCA_df[labels_optimal == 0][\"col1\"].values , PCA_df[labels_optimal == 0][\"col2\"].values, color= 'green')\n",
    "plt.scatter(PCA_df[labels_optimal == 1][\"col1\"].values , PCA_df[labels_optimal == 1][\"col2\"].values, color= 'red')\n",
    "plt.scatter(PCA_df[labels_optimal == 2][\"col1\"].values , PCA_df[labels_optimal == 2][\"col2\"].values, color= 'yellow')\n",
    "plt.scatter(PCA_df[labels_optimal == 3][\"col1\"].values , PCA_df[labels_optimal == 3][\"col2\"].values, color= 'blue')\n",
    "plt.scatter(PCA_df[labels_optimal == 4][\"col1\"].values , PCA_df[labels_optimal == 4][\"col2\"].values, color= 'purple')"
   ]
  },
  {
   "cell_type": "markdown",
   "id": "84d4dce2",
   "metadata": {},
   "source": [
    "Cluster Validity\n",
    "Cluster Validity helps validating the quality and the performance of the cluster. We will use silhoutte score to check the quality.\n",
    "Silhouette Coefficient or silhouette score is a metric used to calculate the goodness of a clustering technique."
   ]
  },
  {
   "cell_type": "code",
   "execution_count": null,
   "id": "1d0eb47a",
   "metadata": {},
   "outputs": [],
   "source": [
    "from sklearn.metrics import silhouette_score\n",
    "labels = kmeans.labels_\n",
    "silhouette_avg = silhouette_score(PCA_df, labels)\n",
    "print(\"The average silhouette_score is :\", silhouette_avg)"
   ]
  },
  {
   "cell_type": "code",
   "execution_count": null,
   "id": "f5be9982",
   "metadata": {},
   "outputs": [],
   "source": [
    "cluster_df = pd.DataFrame({'cluster': labels_optimal})\n",
    "\n",
    "# Plot countplot\n",
    "sns.countplot(data=cluster_df, x='cluster')"
   ]
  },
  {
   "cell_type": "code",
   "execution_count": null,
   "id": "e5b14444",
   "metadata": {},
   "outputs": [],
   "source": [
    "df['labels']=labels_optimal\n",
    "df"
   ]
  },
  {
   "cell_type": "code",
   "execution_count": null,
   "id": "21761b75",
   "metadata": {},
   "outputs": [],
   "source": [
    "import matplotlib.pyplot as plt\n",
    "sns.countplot(data = df,x=df[\"age\"], hue=df[\"labels\"], palette='icefire')\n",
    "plt.title(\"Relation between age and labels\")\n",
    "plt.legend()\n",
    "plt.show()\n"
   ]
  },
  {
   "cell_type": "code",
   "execution_count": null,
   "id": "9be7a20e",
   "metadata": {},
   "outputs": [],
   "source": [
    "#cluster 0: 70-90\n",
    "#cluster 1: 60-80\n",
    "#cluster 2: 50-70\n",
    "#cluster 3: 40-60\n",
    "#cluster 4: 30-50"
   ]
  },
  {
   "cell_type": "code",
   "execution_count": null,
   "id": "3ae26d30",
   "metadata": {},
   "outputs": [],
   "source": [
    "#caucasian-0\n",
    "#african american 1\n",
    "#other 2\n",
    "#asian 3\n",
    "#hispanic 4"
   ]
  },
  {
   "cell_type": "code",
   "execution_count": null,
   "id": "e23fecd5",
   "metadata": {},
   "outputs": [],
   "source": [
    "sns.countplot(data = df,x=df[\"race\"], hue=df[\"labels\"], palette='icefire')\n",
    "plt.title(\"Relation between race and labels\")\n",
    "plt.legend()\n",
    "plt.show()"
   ]
  },
  {
   "cell_type": "code",
   "execution_count": null,
   "id": "e6e51452",
   "metadata": {},
   "outputs": [],
   "source": [
    "#cluster 0 is caucasian\n",
    "#cluster 1 is african american\n",
    "#cluster 2 is other\n",
    "#cluster 3 is asian\n",
    "#cluster 4 is hispanic"
   ]
  },
  {
   "cell_type": "code",
   "execution_count": null,
   "id": "f909c0e4",
   "metadata": {},
   "outputs": [],
   "source": [
    "sns.countplot(data=df, x='labels', hue='gender')\n",
    "plt.title('Distribution of Labels by Gender')\n",
    "plt.show()"
   ]
  },
  {
   "cell_type": "code",
   "execution_count": null,
   "id": "971b66b7",
   "metadata": {},
   "outputs": [],
   "source": [
    "#cluster 0 has females\n",
    "#cluster 1 has females\n",
    "#cluster 2 has males\n",
    "#cluster 3 has males\n",
    "#cluster 4 has females"
   ]
  },
  {
   "cell_type": "code",
   "execution_count": null,
   "id": "f1fa2f6c",
   "metadata": {},
   "outputs": [],
   "source": [
    "#no-1- no need of insulin\n",
    "#up-3- increasing dosage of insulin\n",
    "#steady-2 - enough insulin\n",
    "#down-0- decreasing insulin"
   ]
  },
  {
   "cell_type": "code",
   "execution_count": null,
   "id": "3f5d395e",
   "metadata": {},
   "outputs": [],
   "source": [
    "sns.scatterplot(data=df, x=\"age\", y=\"insulin\", hue=\"gender\")\n",
    "\n",
    "# Set the title of the plot\n",
    "plt.title(\"Relationship between Age, Insulin, and Gender\")\n",
    "\n",
    "# Display the plot\n",
    "plt.show()"
   ]
  },
  {
   "cell_type": "code",
   "execution_count": null,
   "id": "f608f995",
   "metadata": {},
   "outputs": [],
   "source": [
    "#we see majority of males increased their dosage and females havesteady insulin"
   ]
  },
  {
   "cell_type": "code",
   "execution_count": null,
   "id": "b80122eb",
   "metadata": {},
   "outputs": [],
   "source": [
    "#female-0\n",
    "#male-1"
   ]
  },
  {
   "cell_type": "code",
   "execution_count": null,
   "id": "4346378c",
   "metadata": {},
   "outputs": [],
   "source": [
    "import matplotlib.pyplot as plt\n",
    "sns.countplot(data = df,x=df[\"diabetesMed\"], hue=df[\"gender\"])\n",
    "plt.title(\"Relation between diabetesMed and gender\")\n",
    "plt.legend()\n",
    "plt.show()"
   ]
  },
  {
   "cell_type": "code",
   "execution_count": null,
   "id": "3027fe92",
   "metadata": {},
   "outputs": [],
   "source": [
    "#females take medicine more than male"
   ]
  },
  {
   "cell_type": "code",
   "execution_count": null,
   "id": "aa0aa323",
   "metadata": {},
   "outputs": [],
   "source": [
    "sns.barplot(data=df, x=\"age\", y=\"time_in_hospital\",hue='gender')\n",
    "plt.title(\"Relationship between Age, Time in Hospital, and Gender\")\n",
    "plt.show()\n"
   ]
  },
  {
   "cell_type": "code",
   "execution_count": null,
   "id": "e9994d89",
   "metadata": {},
   "outputs": [],
   "source": [
    "#females from 70-90 take atleast 4 days to be in hospital while male take 3 days in an average otherwise age group till 70 takes around 2-3 days"
   ]
  },
  {
   "cell_type": "code",
   "execution_count": null,
   "id": "5a0fc67b",
   "metadata": {},
   "outputs": [],
   "source": [
    "import matplotlib.pyplot as plt\n",
    "sns.countplot(data = df,x=df[\"number_diagnoses\"], hue=df[\"labels\"])\n",
    "plt.title(\"Relation between number_diagnoses and labels\")\n",
    "plt.legend()\n",
    "plt.show()\n"
   ]
  },
  {
   "cell_type": "code",
   "execution_count": null,
   "id": "265e4f1d",
   "metadata": {},
   "outputs": [],
   "source": [
    "#cluster 0 has 8 days of diagnosis\n",
    "#cluster 1 has 7 days\n",
    "#cluster 2 has a range of 5-7 days\n",
    "#cluster 3 has 4 days\n",
    "#cluster 4 has 4/8 days"
   ]
  },
  {
   "cell_type": "code",
   "execution_count": null,
   "id": "d1fb91d9",
   "metadata": {},
   "outputs": [],
   "source": [
    "df.info()"
   ]
  },
  {
   "cell_type": "code",
   "execution_count": null,
   "id": "d7d5b0c4",
   "metadata": {},
   "outputs": [],
   "source": [
    "sns.countplot(data=df, x='readmitted', hue='labels')\n",
    "\n",
    "# Set the title of the plot\n",
    "plt.title('Distribution of Readmissions by Cluster')\n",
    "\n",
    "# Display the plot\n",
    "plt.show()"
   ]
  },
  {
   "cell_type": "code",
   "execution_count": null,
   "id": "fdd34b2e",
   "metadata": {},
   "outputs": [],
   "source": [
    "#cluster 0 are the most readmitted ones\n",
    "#cluster 4 are the do not get readmitted"
   ]
  },
  {
   "cell_type": "code",
   "execution_count": null,
   "id": "564a0724",
   "metadata": {},
   "outputs": [],
   "source": [
    "sns.barplot(data=df, x='labels', y='time_in_hospital')\n",
    "\n",
    "# Set the title of the plot\n",
    "plt.title('Relationship between Time in Hospital and Labels')\n",
    "\n",
    "# Display the plot\n",
    "plt.show()"
   ]
  },
  {
   "cell_type": "markdown",
   "id": "cc383175",
   "metadata": {},
   "source": [
    "#insights\n",
    "\n",
    "1. cluster 0:\n",
    "        age: 70-90\n",
    "        race: caucasian\n",
    "        gender: female\n",
    "        no. of diagnosis: 8 \n",
    "        readmitted: maximum\n",
    "        time in hospital: 4 days\n",
    "\n",
    "2. cluster 1:\n",
    "        age: 60-80\n",
    "        race: african american\n",
    "        gender: female\n",
    "        no. of diagnosis: 7 \n",
    "        readmitted: normal count\n",
    "        time in hospital: 6-7 days\n",
    "\n",
    "3. Cluster 2:\n",
    "        age: 50-70\n",
    "        race: other\n",
    "        gender: male\n",
    "        no. of diagnosis: 5-7\n",
    "        readmitted: least\n",
    "        time in hospital: 3 days\n",
    "\n",
    "4. Cluster 3:\n",
    "        age: 40-60\n",
    "        race: asian\n",
    "        gender: male\n",
    "        no. of diagnosis: 4 \n",
    "        readmitted: most likely\n",
    "        time in hospital: 2 days\n",
    "\n",
    "5. Cluster 4:\n",
    "        age: 30-50\n",
    "        race: hispanic\n",
    "        gender: female\n",
    "        no. of diagnosis: 4\n",
    "        readmitted: least likely\n",
    "        time in hospital: 1-2 days\n",
    "\n",
    "\n",
    "Other Insights\n",
    "1. we see majority of males increased their dosage and females have steady insulin\n",
    "2. females take medicine more than male\n",
    "3. females from 70-90 take atleast 4 days to be in hospital while male take 3 days in an average otherwise age group till 70 takes around 2-3 days\n"
   ]
  },
  {
   "cell_type": "markdown",
   "id": "a989d2b9",
   "metadata": {},
   "source": [
    "# Conclusion\n",
    "The patients in cluster 0 are the patients who needs more treatment and more care of. Patients in cluster 3 and 4 are the young adults who seem to be just affected by diagnosis."
   ]
  }
 ],
 "metadata": {
  "kernelspec": {
   "display_name": "Python 3 (ipykernel)",
   "language": "python",
   "name": "python3"
  },
  "language_info": {
   "codemirror_mode": {
    "name": "ipython",
    "version": 3
   },
   "file_extension": ".py",
   "mimetype": "text/x-python",
   "name": "python",
   "nbconvert_exporter": "python",
   "pygments_lexer": "ipython3",
   "version": "3.9.7"
  }
 },
 "nbformat": 4,
 "nbformat_minor": 5
}
