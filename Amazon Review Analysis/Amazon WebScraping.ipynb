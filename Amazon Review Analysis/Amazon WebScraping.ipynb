{
 "cells": [
  {
   "cell_type": "code",
   "execution_count": 9,
   "id": "27d12da9",
   "metadata": {},
   "outputs": [],
   "source": [
    "import requests\n",
    "from bs4 import BeautifulSoup\n",
    "import pandas as pd\n",
    "from datetime import datetime"
   ]
  },
  {
   "cell_type": "code",
   "execution_count": 10,
   "id": "d0b2e0a4",
   "metadata": {},
   "outputs": [
    {
     "data": {
      "text/plain": [
       "<Response [503]>"
      ]
     },
     "execution_count": 10,
     "metadata": {},
     "output_type": "execute_result"
    }
   ],
   "source": [
    "url = \"https://www.amazon.in/Boldfit-Gallon-Water-Bottle-Litre/product-reviews/B07ZJ72FDM/ref=cm_cr_dp_d_show_all_btm?ie=UTF8&reviewerType=all_reviews\"\n",
    "code = requests.get(url)  \n",
    "code"
   ]
  },
  {
   "cell_type": "code",
   "execution_count": 11,
   "id": "c0f58b43",
   "metadata": {},
   "outputs": [
    {
     "name": "stdout",
     "output_type": "stream",
     "text": [
      "<!DOCTYPE html>\n",
      "<!--[if lt IE 7]> <html lang=\"en-us\" class=\"a-no-js a-lt-ie9 a-lt-ie8 a-lt-ie7\"> <![endif]-->\n",
      "<!--[if IE 7]>    <html lang=\"en-us\" class=\"a-no-js a-lt-ie9 a-lt-ie8\"> <![endif]-->\n",
      "<!--[if IE 8]>    <html lang=\"en-us\" class=\"a-no-js a-lt-ie9\"> <![endif]-->\n",
      "<!--[if gt IE 8]><!-->\n",
      "<html class=\"a-no-js\" lang=\"en-us\">\n",
      " <!--<![endif]-->\n",
      " <head>\n",
      "  <meta content=\"text/html; charset=utf-8\" http-equiv=\"content-type\"/>\n",
      "  <meta charset=\"utf-8\"/>\n",
      "  <meta content=\"IE=edge,chrome=1\" http-equiv=\"X-UA-Compatible\"/>\n",
      "  <title dir=\"ltr\">\n",
      "   Amazon.in\n",
      "  </title>\n",
      "  <meta content=\"width=device-width\" name=\"viewport\"/>\n",
      "  <link href=\"https://images-na.ssl-images-amazon.com/images/G/01/AUIClients/AmazonUI-3c913031596ca78a3768f4e934b1cc02ce238101.secure.min._V1_.css\" rel=\"stylesheet\"/>\n",
      "  <script>\n",
      "   if (true === true) {\n",
      "    var ue_t0 = (+ new Date()),\n",
      "        ue_csm = window,\n",
      "        ue = { t0: ue_t0, d: function() { return (+new Date() - ue_t0); } },\n",
      "        ue_furl = \"fls-eu.amazon.in\",\n",
      "        ue_mid = \"A21TJRUUN4KGV\",\n",
      "        ue_sid = (document.cookie.match(/session-id=([0-9-]+)/) || [])[1],\n",
      "        ue_sn = \"opfcaptcha.amazon.in\",\n",
      "        ue_id = '8EHRP0MRWRGY5XDA36ND';\n",
      "}\n",
      "  </script>\n",
      " </head>\n",
      " <body>\n",
      "  <!--\n",
      "        To discuss automated access to Amazon data please contact api-services-support@amazon.com.\n",
      "        For information about migrating to our APIs refer to our Marketplace APIs at https://developer.amazonservices.in/ref=rm_c_sv, or our Product Advertising API at https://affiliate-program.amazon.in/gp/advertising/api/detail/main.html/ref=rm_c_ac for advertising use cases.\n",
      "-->\n",
      "  <!--\n",
      "Correios.DoNotSend\n",
      "-->\n",
      "  <div class=\"a-container a-padding-double-large\" style=\"min-width:350px;padding:44px 0 !important\">\n",
      "   <div class=\"a-row a-spacing-double-large\" style=\"width: 350px; margin: 0 auto\">\n",
      "    <div class=\"a-row a-spacing-medium a-text-center\">\n",
      "     <i class=\"a-icon a-logo\">\n",
      "     </i>\n",
      "    </div>\n",
      "    <div class=\"a-box a-alert a-alert-info a-spacing-base\">\n",
      "     <div class=\"a-box-inner\">\n",
      "      <i class=\"a-icon a-icon-alert\">\n",
      "      </i>\n",
      "      <h4>\n",
      "       Enter the characters you see below\n",
      "      </h4>\n",
      "      <p class=\"a-last\">\n",
      "       Sorry, we just need to make sure you're not a robot. For best results, please make sure your browser is accepting cookies.\n",
      "      </p>\n",
      "     </div>\n",
      "    </div>\n",
      "    <div class=\"a-section\">\n",
      "     <div class=\"a-box a-color-offset-background\">\n",
      "      <div class=\"a-box-inner a-padding-extra-large\">\n",
      "       <form action=\"/errors/validateCaptcha\" method=\"get\" name=\"\">\n",
      "        <input name=\"amzn\" type=\"hidden\" value=\"/2FVIxyPSfiKpWX0eHRXjA==\"/>\n",
      "        <input name=\"amzn-r\" type=\"hidden\" value=\"/Boldfit-Gallon-Water-Bottle-Litre/product-reviews/B07ZJ72FDM/ref=cm_cr_dp_d_show_all_btm?ie=UTF8&amp;reviewerType=all_reviews\"/>\n",
      "        <div class=\"a-row a-spacing-large\">\n",
      "         <div class=\"a-box\">\n",
      "          <div class=\"a-box-inner\">\n",
      "           <h4>\n",
      "            Type the characters you see in this image:\n",
      "           </h4>\n",
      "           <!-- For automated access to price change or offer listing change events,\n",
      "                                             please refer to the MWS Subscription API:\n",
      "                                             https://developer.amazonservices.in/gp/mws/api.html/276-5247872-0590350?ie=UTF8&section=subscriptions&group=subscriptions&version=latest\n",
      "                                        -->\n",
      "           <div class=\"a-row a-text-center\">\n",
      "            <img src=\"https://images-na.ssl-images-amazon.com/captcha/fmvtfjch/Captcha_sfpzkbkegk.jpg\"/>\n",
      "           </div>\n",
      "           <div class=\"a-row a-spacing-base\">\n",
      "            <div class=\"a-row\">\n",
      "             <div class=\"a-column a-span6\">\n",
      "             </div>\n",
      "             <div class=\"a-column a-span6 a-span-last a-text-right\">\n",
      "              <a onclick=\"window.location.reload()\">\n",
      "               Try different image\n",
      "              </a>\n",
      "             </div>\n",
      "            </div>\n",
      "            <input autocapitalize=\"off\" autocomplete=\"off\" autocorrect=\"off\" class=\"a-span12\" id=\"captchacharacters\" name=\"field-keywords\" placeholder=\"Type characters\" spellcheck=\"false\" type=\"text\"/>\n",
      "           </div>\n",
      "          </div>\n",
      "         </div>\n",
      "        </div>\n",
      "        <div class=\"a-section a-spacing-extra-large\">\n",
      "         <div class=\"a-row\">\n",
      "          <span class=\"a-button a-button-primary a-span12\">\n",
      "           <span class=\"a-button-inner\">\n",
      "            <button class=\"a-button-text\" type=\"submit\">\n",
      "             Continue shopping\n",
      "            </button>\n",
      "           </span>\n",
      "          </span>\n",
      "         </div>\n",
      "        </div>\n",
      "       </form>\n",
      "      </div>\n",
      "     </div>\n",
      "    </div>\n",
      "   </div>\n",
      "   <div class=\"a-divider a-divider-section\">\n",
      "    <div class=\"a-divider-inner\">\n",
      "    </div>\n",
      "   </div>\n",
      "   <div class=\"a-text-center a-spacing-small a-size-mini\">\n",
      "    <a href=\"https://www.amazon.in/gp/help/customer/display.html/ref=footer_cou?ie=UTF8&amp;nodeId=200545940\">\n",
      "     Conditions of Use &amp; Sale\n",
      "    </a>\n",
      "    <span class=\"a-letter-space\">\n",
      "    </span>\n",
      "    <span class=\"a-letter-space\">\n",
      "    </span>\n",
      "    <span class=\"a-letter-space\">\n",
      "    </span>\n",
      "    <span class=\"a-letter-space\">\n",
      "    </span>\n",
      "    <a href=\"https://www.amazon.in/gp/help/customer/display.html/ref=footer_privacy?ie=UTF8&amp;nodeId=200534380\">\n",
      "     Privacy Notice\n",
      "    </a>\n",
      "   </div>\n",
      "   <div class=\"a-text-center a-size-mini a-color-secondary\">\n",
      "    © 1996-2015, Amazon.com, Inc. or its affiliates\n",
      "    <script>\n",
      "     if (true === true) {\n",
      "             document.write('<img src=\"https://fls-eu.amaz'+'on.in/'+'1/oc-csi/1/OP/requestId=8EHRP0MRWRGY5XDA36ND&js=1\" />');\n",
      "           };\n",
      "    </script>\n",
      "    <noscript>\n",
      "     <img src=\"https://fls-eu.amazon.in/1/oc-csi/1/OP/requestId=8EHRP0MRWRGY5XDA36ND&amp;js=0\">\n",
      "     </img>\n",
      "    </noscript>\n",
      "   </div>\n",
      "  </div>\n",
      "  <script>\n",
      "   if (true === true) {\n",
      "        var head = document.getElementsByTagName('head')[0],\n",
      "            prefix = \"https://images-eu.ssl-images-amazon.com/images/G/01/csminstrumentation/\",\n",
      "            elem = document.createElement(\"script\");\n",
      "        elem.src = prefix + \"csm-captcha-instrumentation.min.js\";\n",
      "        head.appendChild(elem);\n",
      "\n",
      "        elem = document.createElement(\"script\");\n",
      "        elem.src = prefix + \"rd-script-6d68177fa6061598e9509dc4b5bdd08d.js\";\n",
      "        head.appendChild(elem);\n",
      "    }\n",
      "  </script>\n",
      " </body>\n",
      "</html>\n",
      "\n"
     ]
    }
   ],
   "source": [
    "soup = BeautifulSoup(code.content,'html.parser')\n",
    "print(soup.prettify())"
   ]
  },
  {
   "cell_type": "code",
   "execution_count": 12,
   "id": "0c78ebbc",
   "metadata": {},
   "outputs": [
    {
     "data": {
      "text/plain": [
       "[]"
      ]
     },
     "execution_count": 12,
     "metadata": {},
     "output_type": "execute_result"
    }
   ],
   "source": [
    "names = soup.select('span.a-profile-name')[2:]\n",
    "names"
   ]
  },
  {
   "cell_type": "code",
   "execution_count": 13,
   "id": "1a443dc4",
   "metadata": {},
   "outputs": [
    {
     "data": {
      "text/plain": [
       "0"
      ]
     },
     "execution_count": 13,
     "metadata": {},
     "output_type": "execute_result"
    }
   ],
   "source": [
    "len(names)"
   ]
  },
  {
   "cell_type": "code",
   "execution_count": 14,
   "id": "04777b6a",
   "metadata": {},
   "outputs": [
    {
     "data": {
      "text/plain": [
       "[]"
      ]
     },
     "execution_count": 14,
     "metadata": {},
     "output_type": "execute_result"
    }
   ],
   "source": [
    "titles = soup.select('a.review-title span')\n",
    "titles"
   ]
  },
  {
   "cell_type": "code",
   "execution_count": 15,
   "id": "722ba938",
   "metadata": {},
   "outputs": [
    {
     "data": {
      "text/plain": [
       "0"
      ]
     },
     "execution_count": 15,
     "metadata": {},
     "output_type": "execute_result"
    }
   ],
   "source": [
    "len(titles)"
   ]
  },
  {
   "cell_type": "code",
   "execution_count": 16,
   "id": "2e15ae10",
   "metadata": {},
   "outputs": [
    {
     "data": {
      "text/plain": [
       "[]"
      ]
     },
     "execution_count": 16,
     "metadata": {},
     "output_type": "execute_result"
    }
   ],
   "source": [
    "dates=soup.select('span.review-date')[2:]\n",
    "dates"
   ]
  },
  {
   "cell_type": "code",
   "execution_count": 17,
   "id": "4d683a42",
   "metadata": {},
   "outputs": [
    {
     "data": {
      "text/plain": [
       "0"
      ]
     },
     "execution_count": 17,
     "metadata": {},
     "output_type": "execute_result"
    }
   ],
   "source": [
    "len(dates)"
   ]
  },
  {
   "cell_type": "code",
   "execution_count": 18,
   "id": "5bf93ef4",
   "metadata": {},
   "outputs": [
    {
     "data": {
      "text/plain": [
       "[]"
      ]
     },
     "execution_count": 18,
     "metadata": {},
     "output_type": "execute_result"
    }
   ],
   "source": [
    "stars = soup.select('i.review-rating span.a-icon-alt')[2:]\n",
    "stars"
   ]
  },
  {
   "cell_type": "code",
   "execution_count": 19,
   "id": "7c9c9d74",
   "metadata": {},
   "outputs": [
    {
     "data": {
      "text/plain": [
       "[]"
      ]
     },
     "execution_count": 19,
     "metadata": {},
     "output_type": "execute_result"
    }
   ],
   "source": [
    "reviews = soup.select('span.review-text-content span')\n",
    "reviews"
   ]
  },
  {
   "cell_type": "code",
   "execution_count": 20,
   "id": "2376c0c7",
   "metadata": {},
   "outputs": [
    {
     "data": {
      "text/plain": [
       "0"
      ]
     },
     "execution_count": 20,
     "metadata": {},
     "output_type": "execute_result"
    }
   ],
   "source": [
    "len(reviews)"
   ]
  },
  {
   "cell_type": "code",
   "execution_count": 21,
   "id": "2b91d8e6",
   "metadata": {},
   "outputs": [
    {
     "ename": "IndexError",
     "evalue": "list index out of range",
     "output_type": "error",
     "traceback": [
      "\u001b[1;31m---------------------------------------------------------------------------\u001b[0m",
      "\u001b[1;31mIndexError\u001b[0m                                Traceback (most recent call last)",
      "Input \u001b[1;32mIn [21]\u001b[0m, in \u001b[0;36m<cell line: 1>\u001b[1;34m()\u001b[0m\n\u001b[1;32m----> 1\u001b[0m \u001b[43mnames\u001b[49m\u001b[43m[\u001b[49m\u001b[38;5;241;43m0\u001b[39;49m\u001b[43m]\u001b[49m\u001b[38;5;241m.\u001b[39mget_text()\n",
      "\u001b[1;31mIndexError\u001b[0m: list index out of range"
     ]
    }
   ],
   "source": [
    "names[0].get_text()"
   ]
  },
  {
   "cell_type": "code",
   "execution_count": 22,
   "id": "f4f733ad",
   "metadata": {},
   "outputs": [],
   "source": [
    "cust_name = []\n",
    "rev_date = []\n",
    "ratings = []\n",
    "rev_title = []\n",
    "rev_content = []\n",
    "for i in range(len(dates)):\n",
    "  cust_name.append(names[i].get_text())\n",
    "  rev_date.append(dates[i].get_text().replace(\"Reviewed in India on \",\"\"))\n",
    "  ratings.append(stars[i].get_text())\n",
    "  rev_title.append(titles[i].get_text())\n",
    "  rev_content.append(reviews[i].get_text().strip(\"\\n \"))"
   ]
  },
  {
   "cell_type": "code",
   "execution_count": 23,
   "id": "8d60b929",
   "metadata": {},
   "outputs": [
    {
     "data": {
      "text/plain": [
       "[]"
      ]
     },
     "execution_count": 23,
     "metadata": {},
     "output_type": "execute_result"
    }
   ],
   "source": [
    "rev_content"
   ]
  },
  {
   "cell_type": "code",
   "execution_count": 29,
   "id": "304db056",
   "metadata": {},
   "outputs": [
    {
     "data": {
      "text/html": [
       "<div>\n",
       "<style scoped>\n",
       "    .dataframe tbody tr th:only-of-type {\n",
       "        vertical-align: middle;\n",
       "    }\n",
       "\n",
       "    .dataframe tbody tr th {\n",
       "        vertical-align: top;\n",
       "    }\n",
       "\n",
       "    .dataframe thead th {\n",
       "        text-align: right;\n",
       "    }\n",
       "</style>\n",
       "<table border=\"1\" class=\"dataframe\">\n",
       "  <thead>\n",
       "    <tr style=\"text-align: right;\">\n",
       "      <th></th>\n",
       "      <th>Customer Name</th>\n",
       "      <th>Date</th>\n",
       "      <th>Ratings</th>\n",
       "      <th>Review Titles</th>\n",
       "      <th>Reviews</th>\n",
       "    </tr>\n",
       "  </thead>\n",
       "  <tbody>\n",
       "    <tr>\n",
       "      <th>0</th>\n",
       "      <td>Juhi Kulkarni</td>\n",
       "      <td>26 April 2022</td>\n",
       "      <td>5.0 out of 5 stars</td>\n",
       "      <td>Super cool bottle and very useful</td>\n",
       "      <td></td>\n",
       "    </tr>\n",
       "    <tr>\n",
       "      <th>1</th>\n",
       "      <td>Juhi Kulkarni</td>\n",
       "      <td>22 April 2022</td>\n",
       "      <td>5.0 out of 5 stars</td>\n",
       "      <td>Must have, loved the product</td>\n",
       "      <td>The media could not be loaded.</td>\n",
       "    </tr>\n",
       "    <tr>\n",
       "      <th>2</th>\n",
       "      <td>Ashwini Ingole</td>\n",
       "      <td>22 February 2022</td>\n",
       "      <td>5.0 out of 5 stars</td>\n",
       "      <td>Love it</td>\n",
       "      <td>I love this bottle and I use it regularly, es...</td>\n",
       "    </tr>\n",
       "    <tr>\n",
       "      <th>3</th>\n",
       "      <td>Ashwini Ingole</td>\n",
       "      <td>25 April 2022</td>\n",
       "      <td>5.0 out of 5 stars</td>\n",
       "      <td>Must trust boldfit for their product</td>\n",
       "      <td></td>\n",
       "    </tr>\n",
       "    <tr>\n",
       "      <th>4</th>\n",
       "      <td>Pruthvi</td>\n",
       "      <td>3 May 2022</td>\n",
       "      <td>5.0 out of 5 stars</td>\n",
       "      <td>Best gallon bottle</td>\n",
       "      <td>The media could not be loaded.</td>\n",
       "    </tr>\n",
       "    <tr>\n",
       "      <th>...</th>\n",
       "      <td>...</td>\n",
       "      <td>...</td>\n",
       "      <td>...</td>\n",
       "      <td>...</td>\n",
       "      <td>...</td>\n",
       "    </tr>\n",
       "    <tr>\n",
       "      <th>375</th>\n",
       "      <td>Pruthvi</td>\n",
       "      <td>20 January 2021</td>\n",
       "      <td>5.0 out of 5 stars</td>\n",
       "      <td>It's everything you need in a gym bottle</td>\n",
       "      <td>I absolutely loved the gallon bottle. We need...</td>\n",
       "    </tr>\n",
       "    <tr>\n",
       "      <th>376</th>\n",
       "      <td>DIKSHA JHA</td>\n",
       "      <td>10 May 2021</td>\n",
       "      <td>5.0 out of 5 stars</td>\n",
       "      <td>This water gallon is so useful.  Love it</td>\n",
       "      <td></td>\n",
       "    </tr>\n",
       "    <tr>\n",
       "      <th>377</th>\n",
       "      <td>DIKSHA JHA</td>\n",
       "      <td>10 May 2022</td>\n",
       "      <td>5.0 out of 5 stars</td>\n",
       "      <td>Boldfit gym bottle</td>\n",
       "      <td>The media could not be loaded.</td>\n",
       "    </tr>\n",
       "    <tr>\n",
       "      <th>378</th>\n",
       "      <td>Suvarna Singh</td>\n",
       "      <td>20 June 2021</td>\n",
       "      <td>1.0 out of 5 stars</td>\n",
       "      <td>Don't buy if you're not planning on babying a ...</td>\n",
       "      <td>Durable and unique gallon bottle.</td>\n",
       "    </tr>\n",
       "    <tr>\n",
       "      <th>379</th>\n",
       "      <td>Suvarna Singh</td>\n",
       "      <td>18 February 2021</td>\n",
       "      <td>5.0 out of 5 stars</td>\n",
       "      <td>Sturdy bottle with high grade plastic</td>\n",
       "      <td>I was looking for bottle storing large capacit...</td>\n",
       "    </tr>\n",
       "  </tbody>\n",
       "</table>\n",
       "<p>380 rows × 5 columns</p>\n",
       "</div>"
      ],
      "text/plain": [
       "      Customer Name              Date             Ratings  \\\n",
       "0    Juhi Kulkarni      26 April 2022  5.0 out of 5 stars   \n",
       "1    Juhi Kulkarni      22 April 2022  5.0 out of 5 stars   \n",
       "2    Ashwini Ingole  22 February 2022  5.0 out of 5 stars   \n",
       "3    Ashwini Ingole     25 April 2022  5.0 out of 5 stars   \n",
       "4           Pruthvi        3 May 2022  5.0 out of 5 stars   \n",
       "..              ...               ...                 ...   \n",
       "375         Pruthvi   20 January 2021  5.0 out of 5 stars   \n",
       "376      DIKSHA JHA       10 May 2021  5.0 out of 5 stars   \n",
       "377      DIKSHA JHA       10 May 2022  5.0 out of 5 stars   \n",
       "378   Suvarna Singh      20 June 2021  1.0 out of 5 stars   \n",
       "379   Suvarna Singh  18 February 2021  5.0 out of 5 stars   \n",
       "\n",
       "                                         Review Titles  \\\n",
       "0                    Super cool bottle and very useful   \n",
       "1                         Must have, loved the product   \n",
       "2                                              Love it   \n",
       "3                 Must trust boldfit for their product   \n",
       "4                                   Best gallon bottle   \n",
       "..                                                 ...   \n",
       "375           It's everything you need in a gym bottle   \n",
       "376           This water gallon is so useful.  Love it   \n",
       "377                                 Boldfit gym bottle   \n",
       "378  Don't buy if you're not planning on babying a ...   \n",
       "379              Sturdy bottle with high grade plastic   \n",
       "\n",
       "                                               Reviews  \n",
       "0                                                       \n",
       "1                       The media could not be loaded.  \n",
       "2     I love this bottle and I use it regularly, es...  \n",
       "3                                                       \n",
       "4                       The media could not be loaded.  \n",
       "..                                                 ...  \n",
       "375   I absolutely loved the gallon bottle. We need...  \n",
       "376                                                     \n",
       "377                     The media could not be loaded.  \n",
       "378                  Durable and unique gallon bottle.  \n",
       "379  I was looking for bottle storing large capacit...  \n",
       "\n",
       "[380 rows x 5 columns]"
      ]
     },
     "execution_count": 29,
     "metadata": {},
     "output_type": "execute_result"
    }
   ],
   "source": [
    "amazon=pd.DataFrame()\n",
    "amazon['Customer Name']=cust_name\n",
    "amazon['Date']=rev_date\n",
    "amazon['Ratings']=ratings\n",
    "amazon['Review Titles']=rev_title\n",
    "amazon['Reviews']=rev_content\n",
    "amazon"
   ]
  },
  {
   "cell_type": "code",
   "execution_count": null,
   "id": "559139b7",
   "metadata": {},
   "outputs": [],
   "source": [
    "df.to_csv(\"amazonreviews.csv\")"
   ]
  },
  {
   "cell_type": "code",
   "execution_count": 30,
   "id": "1761af35",
   "metadata": {},
   "outputs": [],
   "source": [
    "cust_name=[]\n",
    "rev_date=[]\n",
    "ratings=[]\n",
    "rev_title=[]\n",
    "rev_content=[]\n",
    "for page in range (1,65):\n",
    "    url='https://www.amazon.in/Boldfit-Gallon-Water-Bottle-Litre/product-reviews/B07ZJ72FDM/ref=cm_cr_dp_d_show_all_btm?ie=UTF8&reviewerType=all_reviews#reviews-filter-bar='+str(page)\n",
    "    code = requests.get(url)\n",
    "    if str(code)==\"<Response [200]>\":\n",
    "        soup = BeautifulSoup(code.content,'html.parser')\n",
    "        names=soup.select('span.a-profile-name')[2:]\n",
    "        titles=soup.select('a.review-title span')\n",
    "        dates=soup.select('span.review-date')[2:]\n",
    "        stars=soup.select('i.review-rating span.a-icon-alt')[2:]\n",
    "        reviews=soup.select('span.review-text-content span')\n",
    "        for i in range(len(dates)):\n",
    "             cust_name.append(names[i].get_text())\n",
    "             rev_date.append(dates[i].get_text().replace(\"Reviewed in India on \",\"\"))\n",
    "             ratings.append(stars[i].get_text())\n",
    "             rev_title.append(titles[i].get_text())\n",
    "             rev_content.append(reviews[i].get_text().strip(\"\\n \"))\n",
    "        "
   ]
  },
  {
   "cell_type": "code",
   "execution_count": 31,
   "id": "25510e99",
   "metadata": {},
   "outputs": [
    {
     "data": {
      "text/plain": [
       "False"
      ]
     },
     "execution_count": 31,
     "metadata": {},
     "output_type": "execute_result"
    }
   ],
   "source": [
    "str(code)==\"<Response[200]>\""
   ]
  },
  {
   "cell_type": "code",
   "execution_count": 32,
   "id": "89bfdde2",
   "metadata": {},
   "outputs": [
    {
     "data": {
      "text/html": [
       "<div>\n",
       "<style scoped>\n",
       "    .dataframe tbody tr th:only-of-type {\n",
       "        vertical-align: middle;\n",
       "    }\n",
       "\n",
       "    .dataframe tbody tr th {\n",
       "        vertical-align: top;\n",
       "    }\n",
       "\n",
       "    .dataframe thead th {\n",
       "        text-align: right;\n",
       "    }\n",
       "</style>\n",
       "<table border=\"1\" class=\"dataframe\">\n",
       "  <thead>\n",
       "    <tr style=\"text-align: right;\">\n",
       "      <th></th>\n",
       "      <th>Customer Name</th>\n",
       "      <th>Date</th>\n",
       "      <th>Ratings</th>\n",
       "      <th>Review Titles</th>\n",
       "      <th>Reviews</th>\n",
       "    </tr>\n",
       "  </thead>\n",
       "  <tbody>\n",
       "    <tr>\n",
       "      <th>0</th>\n",
       "      <td>Juhi Kulkarni</td>\n",
       "      <td>26 April 2022</td>\n",
       "      <td>5.0 out of 5 stars</td>\n",
       "      <td>Super cool bottle and very useful</td>\n",
       "      <td></td>\n",
       "    </tr>\n",
       "    <tr>\n",
       "      <th>1</th>\n",
       "      <td>Juhi Kulkarni</td>\n",
       "      <td>22 April 2022</td>\n",
       "      <td>5.0 out of 5 stars</td>\n",
       "      <td>Must have, loved the product</td>\n",
       "      <td>The media could not be loaded.</td>\n",
       "    </tr>\n",
       "    <tr>\n",
       "      <th>2</th>\n",
       "      <td>Ashwini Ingole</td>\n",
       "      <td>22 February 2022</td>\n",
       "      <td>5.0 out of 5 stars</td>\n",
       "      <td>Love it</td>\n",
       "      <td>I love this bottle and I use it regularly, es...</td>\n",
       "    </tr>\n",
       "    <tr>\n",
       "      <th>3</th>\n",
       "      <td>Ashwini Ingole</td>\n",
       "      <td>25 April 2022</td>\n",
       "      <td>5.0 out of 5 stars</td>\n",
       "      <td>Must trust boldfit for their product</td>\n",
       "      <td></td>\n",
       "    </tr>\n",
       "    <tr>\n",
       "      <th>4</th>\n",
       "      <td>Pruthvi</td>\n",
       "      <td>3 May 2022</td>\n",
       "      <td>5.0 out of 5 stars</td>\n",
       "      <td>Best gallon bottle</td>\n",
       "      <td>The media could not be loaded.</td>\n",
       "    </tr>\n",
       "    <tr>\n",
       "      <th>...</th>\n",
       "      <td>...</td>\n",
       "      <td>...</td>\n",
       "      <td>...</td>\n",
       "      <td>...</td>\n",
       "      <td>...</td>\n",
       "    </tr>\n",
       "    <tr>\n",
       "      <th>405</th>\n",
       "      <td>Pruthvi</td>\n",
       "      <td>20 January 2021</td>\n",
       "      <td>5.0 out of 5 stars</td>\n",
       "      <td>It's everything you need in a gym bottle</td>\n",
       "      <td>I absolutely loved the gallon bottle. We need...</td>\n",
       "    </tr>\n",
       "    <tr>\n",
       "      <th>406</th>\n",
       "      <td>DIKSHA JHA</td>\n",
       "      <td>10 May 2021</td>\n",
       "      <td>5.0 out of 5 stars</td>\n",
       "      <td>This water gallon is so useful.  Love it</td>\n",
       "      <td></td>\n",
       "    </tr>\n",
       "    <tr>\n",
       "      <th>407</th>\n",
       "      <td>DIKSHA JHA</td>\n",
       "      <td>10 May 2022</td>\n",
       "      <td>5.0 out of 5 stars</td>\n",
       "      <td>Boldfit gym bottle</td>\n",
       "      <td>The media could not be loaded.</td>\n",
       "    </tr>\n",
       "    <tr>\n",
       "      <th>408</th>\n",
       "      <td>Suvarna Singh</td>\n",
       "      <td>20 June 2021</td>\n",
       "      <td>1.0 out of 5 stars</td>\n",
       "      <td>Don't buy if you're not planning on babying a ...</td>\n",
       "      <td>Durable and unique gallon bottle.</td>\n",
       "    </tr>\n",
       "    <tr>\n",
       "      <th>409</th>\n",
       "      <td>Suvarna Singh</td>\n",
       "      <td>18 February 2021</td>\n",
       "      <td>5.0 out of 5 stars</td>\n",
       "      <td>Sturdy bottle with high grade plastic</td>\n",
       "      <td>I was looking for bottle storing large capacit...</td>\n",
       "    </tr>\n",
       "  </tbody>\n",
       "</table>\n",
       "<p>410 rows × 5 columns</p>\n",
       "</div>"
      ],
      "text/plain": [
       "      Customer Name              Date             Ratings  \\\n",
       "0    Juhi Kulkarni      26 April 2022  5.0 out of 5 stars   \n",
       "1    Juhi Kulkarni      22 April 2022  5.0 out of 5 stars   \n",
       "2    Ashwini Ingole  22 February 2022  5.0 out of 5 stars   \n",
       "3    Ashwini Ingole     25 April 2022  5.0 out of 5 stars   \n",
       "4           Pruthvi        3 May 2022  5.0 out of 5 stars   \n",
       "..              ...               ...                 ...   \n",
       "405         Pruthvi   20 January 2021  5.0 out of 5 stars   \n",
       "406      DIKSHA JHA       10 May 2021  5.0 out of 5 stars   \n",
       "407      DIKSHA JHA       10 May 2022  5.0 out of 5 stars   \n",
       "408   Suvarna Singh      20 June 2021  1.0 out of 5 stars   \n",
       "409   Suvarna Singh  18 February 2021  5.0 out of 5 stars   \n",
       "\n",
       "                                         Review Titles  \\\n",
       "0                    Super cool bottle and very useful   \n",
       "1                         Must have, loved the product   \n",
       "2                                              Love it   \n",
       "3                 Must trust boldfit for their product   \n",
       "4                                   Best gallon bottle   \n",
       "..                                                 ...   \n",
       "405           It's everything you need in a gym bottle   \n",
       "406           This water gallon is so useful.  Love it   \n",
       "407                                 Boldfit gym bottle   \n",
       "408  Don't buy if you're not planning on babying a ...   \n",
       "409              Sturdy bottle with high grade plastic   \n",
       "\n",
       "                                               Reviews  \n",
       "0                                                       \n",
       "1                       The media could not be loaded.  \n",
       "2     I love this bottle and I use it regularly, es...  \n",
       "3                                                       \n",
       "4                       The media could not be loaded.  \n",
       "..                                                 ...  \n",
       "405   I absolutely loved the gallon bottle. We need...  \n",
       "406                                                     \n",
       "407                     The media could not be loaded.  \n",
       "408                  Durable and unique gallon bottle.  \n",
       "409  I was looking for bottle storing large capacit...  \n",
       "\n",
       "[410 rows x 5 columns]"
      ]
     },
     "execution_count": 32,
     "metadata": {},
     "output_type": "execute_result"
    }
   ],
   "source": [
    "amazon=pd.DataFrame()\n",
    "amazon['Customer Name']=cust_name\n",
    "amazon['Date']=rev_date\n",
    "amazon['Ratings']=ratings\n",
    "amazon['Review Titles']=rev_title\n",
    "amazon['Reviews']=rev_content\n",
    "amazon"
   ]
  },
  {
   "cell_type": "code",
   "execution_count": 28,
   "id": "678238f4",
   "metadata": {},
   "outputs": [],
   "source": [
    "amazon.to_csv(\"amazonreviews.csv\")"
   ]
  },
  {
   "cell_type": "code",
   "execution_count": null,
   "id": "05437684",
   "metadata": {},
   "outputs": [],
   "source": []
  }
 ],
 "metadata": {
  "kernelspec": {
   "display_name": "Python 3 (ipykernel)",
   "language": "python",
   "name": "python3"
  },
  "language_info": {
   "codemirror_mode": {
    "name": "ipython",
    "version": 3
   },
   "file_extension": ".py",
   "mimetype": "text/x-python",
   "name": "python",
   "nbconvert_exporter": "python",
   "pygments_lexer": "ipython3",
   "version": "3.9.12"
  }
 },
 "nbformat": 4,
 "nbformat_minor": 5
}
