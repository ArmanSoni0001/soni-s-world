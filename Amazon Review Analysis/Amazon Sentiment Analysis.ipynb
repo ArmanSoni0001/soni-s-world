{
 "cells": [
  {
   "cell_type": "code",
   "execution_count": 1,
   "id": "775eea65",
   "metadata": {},
   "outputs": [],
   "source": [
    "## load python dependencies\n",
    "import pandas as pd\n",
    "import string\n",
    "from nltk.corpus import stopwords\n",
    "from nltk.tokenize import word_tokenize\n",
    "import matplotlib.pyplot as plt"
   ]
  },
  {
   "cell_type": "code",
   "execution_count": 3,
   "id": "f91d7ea8",
   "metadata": {},
   "outputs": [
    {
     "data": {
      "text/html": [
       "<div>\n",
       "<style scoped>\n",
       "    .dataframe tbody tr th:only-of-type {\n",
       "        vertical-align: middle;\n",
       "    }\n",
       "\n",
       "    .dataframe tbody tr th {\n",
       "        vertical-align: top;\n",
       "    }\n",
       "\n",
       "    .dataframe thead th {\n",
       "        text-align: right;\n",
       "    }\n",
       "</style>\n",
       "<table border=\"1\" class=\"dataframe\">\n",
       "  <thead>\n",
       "    <tr style=\"text-align: right;\">\n",
       "      <th></th>\n",
       "      <th>Unnamed: 0</th>\n",
       "      <th>Customer Name</th>\n",
       "      <th>Date</th>\n",
       "      <th>Ratings</th>\n",
       "      <th>Review Titles</th>\n",
       "      <th>Reviews</th>\n",
       "    </tr>\n",
       "  </thead>\n",
       "  <tbody>\n",
       "    <tr>\n",
       "      <th>0</th>\n",
       "      <td>0</td>\n",
       "      <td>Juhi Kulkarni</td>\n",
       "      <td>26 April 2022</td>\n",
       "      <td>5.0 out of 5 stars</td>\n",
       "      <td>Super cool bottle and very useful</td>\n",
       "      <td>NaN</td>\n",
       "    </tr>\n",
       "    <tr>\n",
       "      <th>1</th>\n",
       "      <td>1</td>\n",
       "      <td>Juhi Kulkarni</td>\n",
       "      <td>22 April 2022</td>\n",
       "      <td>5.0 out of 5 stars</td>\n",
       "      <td>Must have, loved the product</td>\n",
       "      <td>The media could not be loaded.</td>\n",
       "    </tr>\n",
       "    <tr>\n",
       "      <th>2</th>\n",
       "      <td>2</td>\n",
       "      <td>Ashwini Ingole</td>\n",
       "      <td>22 February 2022</td>\n",
       "      <td>5.0 out of 5 stars</td>\n",
       "      <td>Love it</td>\n",
       "      <td>I love this bottle and I use it regularly, es...</td>\n",
       "    </tr>\n",
       "  </tbody>\n",
       "</table>\n",
       "</div>"
      ],
      "text/plain": [
       "   Unnamed: 0   Customer Name              Date             Ratings  \\\n",
       "0           0  Juhi Kulkarni      26 April 2022  5.0 out of 5 stars   \n",
       "1           1  Juhi Kulkarni      22 April 2022  5.0 out of 5 stars   \n",
       "2           2  Ashwini Ingole  22 February 2022  5.0 out of 5 stars   \n",
       "\n",
       "                       Review Titles  \\\n",
       "0  Super cool bottle and very useful   \n",
       "1       Must have, loved the product   \n",
       "2                            Love it   \n",
       "\n",
       "                                             Reviews  \n",
       "0                                                NaN  \n",
       "1                     The media could not be loaded.  \n",
       "2   I love this bottle and I use it regularly, es...  "
      ]
     },
     "execution_count": 3,
     "metadata": {},
     "output_type": "execute_result"
    }
   ],
   "source": [
    "### read product review dataset\n",
    "data=pd.read_csv(\"D:/Amazon Project/amazonreviews.csv\")\n",
    "data.head(3)"
   ]
  },
  {
   "cell_type": "code",
   "execution_count": 26,
   "id": "50c17b45",
   "metadata": {},
   "outputs": [
    {
     "data": {
      "text/plain": [
       "Unnamed: 0        int64\n",
       "Customer Name    object\n",
       "Date             object\n",
       "Ratings          object\n",
       "Review Titles    object\n",
       "Reviews          object\n",
       "dtype: object"
      ]
     },
     "execution_count": 26,
     "metadata": {},
     "output_type": "execute_result"
    }
   ],
   "source": [
    "data.dtypes"
   ]
  },
  {
   "cell_type": "code",
   "execution_count": 58,
   "id": "cd175c8d",
   "metadata": {},
   "outputs": [],
   "source": [
    "Ratings = ['5.0 out of 5 stars','1.0 out of 5 stars','1.0 out of 5 stars']\n",
    "data=pd.DataFrame(ratings,columns= ['Ratings'])\n",
    "data['stars']=pd.to_numeric(data['Ratings'].apply(lambda x:x[:1])).astype(int)"
   ]
  },
  {
   "cell_type": "code",
   "execution_count": 59,
   "id": "213bc9c5",
   "metadata": {},
   "outputs": [
    {
     "data": {
      "text/html": [
       "<div>\n",
       "<style scoped>\n",
       "    .dataframe tbody tr th:only-of-type {\n",
       "        vertical-align: middle;\n",
       "    }\n",
       "\n",
       "    .dataframe tbody tr th {\n",
       "        vertical-align: top;\n",
       "    }\n",
       "\n",
       "    .dataframe thead th {\n",
       "        text-align: right;\n",
       "    }\n",
       "</style>\n",
       "<table border=\"1\" class=\"dataframe\">\n",
       "  <thead>\n",
       "    <tr style=\"text-align: right;\">\n",
       "      <th></th>\n",
       "      <th>Ratings</th>\n",
       "      <th>stars</th>\n",
       "    </tr>\n",
       "  </thead>\n",
       "  <tbody>\n",
       "    <tr>\n",
       "      <th>0</th>\n",
       "      <td>5.0 out of 5 stars</td>\n",
       "      <td>5</td>\n",
       "    </tr>\n",
       "    <tr>\n",
       "      <th>1</th>\n",
       "      <td>1.0 out of 5 stars</td>\n",
       "      <td>1</td>\n",
       "    </tr>\n",
       "    <tr>\n",
       "      <th>2</th>\n",
       "      <td>1.0 out of 5 stars</td>\n",
       "      <td>1</td>\n",
       "    </tr>\n",
       "  </tbody>\n",
       "</table>\n",
       "</div>"
      ],
      "text/plain": [
       "              Ratings  stars\n",
       "0  5.0 out of 5 stars      5\n",
       "1  1.0 out of 5 stars      1\n",
       "2  1.0 out of 5 stars      1"
      ]
     },
     "execution_count": 59,
     "metadata": {},
     "output_type": "execute_result"
    }
   ],
   "source": [
    "data.head()"
   ]
  },
  {
   "cell_type": "code",
   "execution_count": 50,
   "id": "a6c2f33e",
   "metadata": {},
   "outputs": [
    {
     "data": {
      "text/plain": [
       "<bound method DataFrame.info of               Ratings  stars\n",
       "0  5.0 out of 5 stars      5\n",
       "1  1.0 out of 5 stars      1\n",
       "2  1.0 out of 5 stars      1>"
      ]
     },
     "execution_count": 50,
     "metadata": {},
     "output_type": "execute_result"
    }
   ],
   "source": [
    "data.info"
   ]
  },
  {
   "cell_type": "code",
   "execution_count": 4,
   "id": "73e17b21",
   "metadata": {},
   "outputs": [
    {
     "name": "stdout",
     "output_type": "stream",
     "text": [
      "dim:  (380, 6)\n",
      "----------------\n",
      "total rows: 380\n",
      "----------------\n",
      "toal columns:  6\n",
      "----------------\n",
      "columns: \n",
      " ['Unnamed: 0' 'Customer Name' 'Date' 'Ratings' 'Review Titles' 'Reviews']\n"
     ]
    }
   ],
   "source": [
    "data.shape\n",
    "row=data.shape[0]\n",
    "cols=data.shape[1]\n",
    "print('dim: ', data.shape)\n",
    "print(\"----------------\")\n",
    "print('total rows:', row)\n",
    "print(\"----------------\")\n",
    "print('toal columns: ', cols)\n",
    "print(\"----------------\")\n",
    "print('columns: \\n', data.columns.values)"
   ]
  },
  {
   "cell_type": "code",
   "execution_count": 6,
   "id": "fa3fb39e",
   "metadata": {},
   "outputs": [
    {
     "name": "stdout",
     "output_type": "stream",
     "text": [
      "explore filtered review data: \n",
      "     Customer Name              Date             Ratings  \\\n",
      "0  Juhi Kulkarni      26 April 2022  5.0 out of 5 stars   \n",
      "1  Juhi Kulkarni      22 April 2022  5.0 out of 5 stars   \n",
      "2  Ashwini Ingole  22 February 2022  5.0 out of 5 stars   \n",
      "3  Ashwini Ingole     25 April 2022  5.0 out of 5 stars   \n",
      "4         Pruthvi        3 May 2022  5.0 out of 5 stars   \n",
      "\n",
      "                          Review Titles  \\\n",
      "0     Super cool bottle and very useful   \n",
      "1          Must have, loved the product   \n",
      "2                               Love it   \n",
      "3  Must trust boldfit for their product   \n",
      "4                    Best gallon bottle   \n",
      "\n",
      "                                             Reviews  \n",
      "0                                                NaN  \n",
      "1                     The media could not be loaded.  \n",
      "2   I love this bottle and I use it regularly, es...  \n",
      "3                                                NaN  \n",
      "4                     The media could not be loaded.  \n",
      "==================================================\n",
      "explore the descriptive statistics: \n",
      " <bound method DataFrame.info of       Customer Name              Date             Ratings  \\\n",
      "0    Juhi Kulkarni      26 April 2022  5.0 out of 5 stars   \n",
      "1    Juhi Kulkarni      22 April 2022  5.0 out of 5 stars   \n",
      "2    Ashwini Ingole  22 February 2022  5.0 out of 5 stars   \n",
      "3    Ashwini Ingole     25 April 2022  5.0 out of 5 stars   \n",
      "4           Pruthvi        3 May 2022  5.0 out of 5 stars   \n",
      "..              ...               ...                 ...   \n",
      "375         Pruthvi   20 January 2021  5.0 out of 5 stars   \n",
      "376      DIKSHA JHA       10 May 2021  5.0 out of 5 stars   \n",
      "377      DIKSHA JHA       10 May 2022  5.0 out of 5 stars   \n",
      "378   Suvarna Singh      20 June 2021  1.0 out of 5 stars   \n",
      "379   Suvarna Singh  18 February 2021  5.0 out of 5 stars   \n",
      "\n",
      "                                         Review Titles  \\\n",
      "0                    Super cool bottle and very useful   \n",
      "1                         Must have, loved the product   \n",
      "2                                              Love it   \n",
      "3                 Must trust boldfit for their product   \n",
      "4                                   Best gallon bottle   \n",
      "..                                                 ...   \n",
      "375           It's everything you need in a gym bottle   \n",
      "376           This water gallon is so useful.  Love it   \n",
      "377                                 Boldfit gym bottle   \n",
      "378  Don't buy if you're not planning on babying a ...   \n",
      "379              Sturdy bottle with high grade plastic   \n",
      "\n",
      "                                               Reviews  \n",
      "0                                                  NaN  \n",
      "1                       The media could not be loaded.  \n",
      "2     I love this bottle and I use it regularly, es...  \n",
      "3                                                  NaN  \n",
      "4                       The media could not be loaded.  \n",
      "..                                                 ...  \n",
      "375   I absolutely loved the gallon bottle. We need...  \n",
      "376                                                NaN  \n",
      "377                     The media could not be loaded.  \n",
      "378                  Durable and unique gallon bottle.  \n",
      "379  I was looking for bottle storing large capacit...  \n",
      "\n",
      "[380 rows x 5 columns]>\n",
      "==================================================\n",
      "data description: \n",
      "          Customer Name           Date             Ratings  \\\n",
      "count              380            380                 380   \n",
      "unique               5             10                   2   \n",
      "top     Juhi Kulkarni   26 April 2022  5.0 out of 5 stars   \n",
      "freq                76             38                 342   \n",
      "\n",
      "                            Review Titles                         Reviews  \n",
      "count                                 380                             266  \n",
      "unique                                 10                               5  \n",
      "top     Super cool bottle and very useful  The media could not be loaded.  \n",
      "freq                                   38                             114  \n",
      "explore the descriptive statistics: \n",
      " <bound method DataFrame.info of       Customer Name              Date             Ratings  \\\n",
      "0    Juhi Kulkarni      26 April 2022  5.0 out of 5 stars   \n",
      "1    Juhi Kulkarni      22 April 2022  5.0 out of 5 stars   \n",
      "2    Ashwini Ingole  22 February 2022  5.0 out of 5 stars   \n",
      "3    Ashwini Ingole     25 April 2022  5.0 out of 5 stars   \n",
      "4           Pruthvi        3 May 2022  5.0 out of 5 stars   \n",
      "..              ...               ...                 ...   \n",
      "375         Pruthvi   20 January 2021  5.0 out of 5 stars   \n",
      "376      DIKSHA JHA       10 May 2021  5.0 out of 5 stars   \n",
      "377      DIKSHA JHA       10 May 2022  5.0 out of 5 stars   \n",
      "378   Suvarna Singh      20 June 2021  1.0 out of 5 stars   \n",
      "379   Suvarna Singh  18 February 2021  5.0 out of 5 stars   \n",
      "\n",
      "                                         Review Titles  \\\n",
      "0                    Super cool bottle and very useful   \n",
      "1                         Must have, loved the product   \n",
      "2                                              Love it   \n",
      "3                 Must trust boldfit for their product   \n",
      "4                                   Best gallon bottle   \n",
      "..                                                 ...   \n",
      "375           It's everything you need in a gym bottle   \n",
      "376           This water gallon is so useful.  Love it   \n",
      "377                                 Boldfit gym bottle   \n",
      "378  Don't buy if you're not planning on babying a ...   \n",
      "379              Sturdy bottle with high grade plastic   \n",
      "\n",
      "                                               Reviews  \n",
      "0                                                  NaN  \n",
      "1                       The media could not be loaded.  \n",
      "2     I love this bottle and I use it regularly, es...  \n",
      "3                                                  NaN  \n",
      "4                       The media could not be loaded.  \n",
      "..                                                 ...  \n",
      "375   I absolutely loved the gallon bottle. We need...  \n",
      "376                                                NaN  \n",
      "377                     The media could not be loaded.  \n",
      "378                  Durable and unique gallon bottle.  \n",
      "379  I was looking for bottle storing large capacit...  \n",
      "\n",
      "[380 rows x 5 columns]>\n",
      "==================================================\n",
      "dimension info: \n",
      " (380, 5)\n"
     ]
    }
   ],
   "source": [
    "## keep the columns that needed for performing sentiment analysis\n",
    "\n",
    "sent_data = data[['Customer Name', 'Date', 'Ratings','Review Titles','Reviews']]\n",
    "print('explore filtered review data: \\n', sent_data.head())\n",
    "print(\"==================================================\")\n",
    "print(\"explore the descriptive statistics: \\n\",sent_data.info)\n",
    "print(\"==================================================\")\n",
    "print(\"data description: \\n\", sent_data.describe())\n",
    "print(\"explore the descriptive statistics: \\n\",sent_data.info)\n",
    "print(\"==================================================\")\n",
    "print(\"dimension info: \\n\", sent_data.shape)"
   ]
  },
  {
   "cell_type": "code",
   "execution_count": 7,
   "id": "852aa7af",
   "metadata": {},
   "outputs": [
    {
     "name": "stdout",
     "output_type": "stream",
     "text": [
      "tot null values in dataset: \n",
      " Customer Name      0\n",
      "Date               0\n",
      "Ratings            0\n",
      "Review Titles      0\n",
      "Reviews          114\n",
      "dtype: int64\n",
      "========================================================\n",
      "tot na entries in dataset: \n",
      " Customer Name      0\n",
      "Date               0\n",
      "Ratings            0\n",
      "Review Titles      0\n",
      "Reviews          114\n",
      "dtype: int64\n",
      "========================================================\n"
     ]
    }
   ],
   "source": [
    "### sanity check\n",
    "print(\"tot null values in dataset: \\n\", sent_data.isnull().sum())\n",
    "print(\"========================================================\")\n",
    "print(\"tot na entries in dataset: \\n\", sent_data.isna().sum())\n",
    "print(\"========================================================\")"
   ]
  },
  {
   "cell_type": "code",
   "execution_count": 8,
   "id": "03dc445c",
   "metadata": {},
   "outputs": [
    {
     "name": "stdout",
     "output_type": "stream",
     "text": [
      "review rating statistics: \n",
      " 1.0 out of 5 stars     38\n",
      "5.0 out of 5 stars    228\n",
      "Name: Ratings, dtype: int64\n",
      "==================================================\n"
     ]
    },
    {
     "data": {
      "text/plain": [
       "<AxesSubplot:ylabel='Ratings'>"
      ]
     },
     "execution_count": 8,
     "metadata": {},
     "output_type": "execute_result"
    },
    {
     "data": {
      "image/png": "[encoded data removed]",
      "text/plain": [
       "<Figure size 432x288 with 1 Axes>"
      ]
     },
     "metadata": {},
     "output_type": "display_data"
    }
   ],
   "source": [
    "### handly exploratory analysis on product review data\n",
    "sent_data=sent_data.dropna(how=\"any\")\n",
    "rev_stats = sent_data['Ratings'].value_counts().sort_values()\n",
    "print(\"review rating statistics: \\n\", rev_stats)\n",
    "print(\"==================================================\")\n",
    "sent_data['Ratings'].value_counts().sort_values().plot.pie()"
   ]
  },
  {
   "cell_type": "code",
   "execution_count": 39,
   "id": "93576c1f",
   "metadata": {},
   "outputs": [
    {
     "name": "stdout",
     "output_type": "stream",
     "text": [
      "<class 'pandas.core.frame.DataFrame'>\n",
      "Int64Index: 266 entries, 1 to 379\n",
      "Data columns (total 6 columns):\n",
      " #   Column           Non-Null Count  Dtype \n",
      "---  ------           --------------  ----- \n",
      " 0   Customer Name    266 non-null    object\n",
      " 1   Date             266 non-null    object\n",
      " 2   Ratings          266 non-null    object\n",
      " 3   Review Titles    266 non-null    object\n",
      " 4   Reviews          266 non-null    object\n",
      " 5   sentiment_label  266 non-null    object\n",
      "dtypes: object(6)\n",
      "memory usage: 14.5+ KB\n",
      "data overview: \n",
      " None\n"
     ]
    }
   ],
   "source": [
    "sent_data = sent_data[sent_data[\"Ratings\"].notnull()]\n",
    "print(\"data overview: \\n\", sent_data.info())"
   ]
  },
  {
   "cell_type": "code",
   "execution_count": 11,
   "id": "004c0832",
   "metadata": {},
   "outputs": [
    {
     "name": "stderr",
     "output_type": "stream",
     "text": [
      "[nltk_data] Downloading package punkt to\n",
      "[nltk_data]     C:\\Users\\lenovo\\AppData\\Roaming\\nltk_data...\n",
      "[nltk_data]   Package punkt is already up-to-date!\n",
      "[nltk_data] Downloading package stopwords to\n",
      "[nltk_data]     C:\\Users\\lenovo\\AppData\\Roaming\\nltk_data...\n",
      "[nltk_data]   Package stopwords is already up-to-date!\n"
     ]
    },
    {
     "data": {
      "text/plain": [
       "True"
      ]
     },
     "execution_count": 11,
     "metadata": {},
     "output_type": "execute_result"
    }
   ],
   "source": [
    "import nltk\n",
    "nltk.download('punkt')\n",
    "nltk.download('stopwords')"
   ]
  },
  {
   "cell_type": "code",
   "execution_count": 13,
   "id": "93010fd4",
   "metadata": {},
   "outputs": [
    {
     "name": "stdout",
     "output_type": "stream",
     "text": [
      "negative english words: \n",
      "    Unnamed: 0   Customer Name              Date             Ratings  \\\n",
      "0           0  Juhi Kulkarni      26 April 2022  5.0 out of 5 stars   \n",
      "1           1  Juhi Kulkarni      22 April 2022  5.0 out of 5 stars   \n",
      "2           2  Ashwini Ingole  22 February 2022  5.0 out of 5 stars   \n",
      "3           3  Ashwini Ingole     25 April 2022  5.0 out of 5 stars   \n",
      "4           4         Pruthvi        3 May 2022  5.0 out of 5 stars   \n",
      "\n",
      "                          Review Titles  \\\n",
      "0     Super cool bottle and very useful   \n",
      "1          Must have, loved the product   \n",
      "2                               Love it   \n",
      "3  Must trust boldfit for their product   \n",
      "4                    Best gallon bottle   \n",
      "\n",
      "                                             Reviews  \n",
      "0                                                NaN  \n",
      "1                     The media could not be loaded.  \n",
      "2   I love this bottle and I use it regularly, es...  \n",
      "3                                                NaN  \n",
      "4                     The media could not be loaded.  \n",
      "=====================================\n",
      "positive english words: \n",
      "    Unnamed: 0   Customer Name              Date             Ratings  \\\n",
      "0           0  Juhi Kulkarni      26 April 2022  5.0 out of 5 stars   \n",
      "1           1  Juhi Kulkarni      22 April 2022  5.0 out of 5 stars   \n",
      "2           2  Ashwini Ingole  22 February 2022  5.0 out of 5 stars   \n",
      "3           3  Ashwini Ingole     25 April 2022  5.0 out of 5 stars   \n",
      "4           4         Pruthvi        3 May 2022  5.0 out of 5 stars   \n",
      "\n",
      "                          Review Titles  \\\n",
      "0     Super cool bottle and very useful   \n",
      "1          Must have, loved the product   \n",
      "2                               Love it   \n",
      "3  Must trust boldfit for their product   \n",
      "4                    Best gallon bottle   \n",
      "\n",
      "                                             Reviews  \n",
      "0                                                NaN  \n",
      "1                     The media could not be loaded.  \n",
      "2   I love this bottle and I use it regularly, es...  \n",
      "3                                                NaN  \n",
      "4                     The media could not be loaded.  \n"
     ]
    }
   ],
   "source": [
    "## helper function to determine sentiment for given review text\n",
    "## to do so, we can use pre-generated positive / negative english words\n",
    "neg_words=pd.read_csv(\"D:/Amazon Project/amazonreviews.csv\")\n",
    "pos_words=pd.read_csv(\"D:/Amazon Project/amazonreviews.csv\")\n",
    "print(\"negative english words: \\n\", neg_words.head())\n",
    "print(\"=====================================\")\n",
    "print(\"positive english words: \\n\", pos_words.head())"
   ]
  },
  {
   "cell_type": "code",
   "execution_count": 14,
   "id": "8a830ed9",
   "metadata": {},
   "outputs": [],
   "source": [
    "# txt=sent_data[\"reviews.text\"][0]\n",
    "# tokens= word_tokenize(txt)\n",
    "# print('text,,\\n', txt)\n",
    "# print(\"=============\")\n",
    "# print(\"tokens:\\n\", tokens)\n",
    "# print(\"=============\")\n",
    "# tkens=[''.join(x for x in y if x not in string.punctuation) for y in tokens]\n",
    "# print(\"curious: \\n\", tkens)\n",
    "# print(\"=============\")\n",
    "# non_stopwords=[x for x in tkens if x not in stopwords.words(\"english\")]\n",
    "# print(\"non stopwords: \\n\", non_stopwords) "
   ]
  },
  {
   "cell_type": "code",
   "execution_count": 15,
   "id": "76b54a07",
   "metadata": {},
   "outputs": [],
   "source": [
    "### helper function to decide sentiment factor in given text\n",
    "def assign_sentiment(sent):\n",
    "    neg_cnt=0\n",
    "    pos_cnt=0\n",
    "    neu_cnt=0\n",
    "    tokenized_sent=word_tokenize(sent)\n",
    "    tokenized_words=[''.join(x for x in y if x not in string.punctuation) for y in tokenized_sent]\n",
    "    non_stopwords=[x for x in tokenized_words if x not in stopwords.words(\"english\")]\n",
    "    for word in non_stopwords:\n",
    "        if word in neg_words:\n",
    "            neg_cnt+=1\n",
    "        elif word in pos_words:\n",
    "            pos_cnt+=1\n",
    "        else:\n",
    "            neu_cnt+=1\n",
    "    if pos_cnt>neg_cnt:\n",
    "        return +1\n",
    "    elif neg_cnt>pos_cnt:\n",
    "        return -1\n",
    "    else:\n",
    "        return 0"
   ]
  },
  {
   "cell_type": "code",
   "execution_count": 37,
   "id": "e170e13b",
   "metadata": {},
   "outputs": [],
   "source": [
    "### print out positive, negative, neutral reviews from original product review data\n",
    "pos_reviews=0\n",
    "neg_reviews=0\n",
    "neu_reviews=0\n",
    "for review in sent_data['Reviews']:\n",
    "    cnt=assign_sentiment(review)\n",
    "    if cnt==1:\n",
    "        pos_reviews+=1\n",
    "    elif cnt==-1:\n",
    "        neg_reviews+=1\n",
    "    else:\n",
    "        neu_reviews+=1"
   ]
  },
  {
   "cell_type": "code",
   "execution_count": 20,
   "id": "dda0372c",
   "metadata": {},
   "outputs": [
    {
     "data": {
      "text/plain": [
       "([<matplotlib.patches.Wedge at 0x212bd23b250>,\n",
       "  <matplotlib.patches.Wedge at 0x212bd23bc10>,\n",
       "  <matplotlib.patches.Wedge at 0x212bd2415e0>],\n",
       " [Text(1.1000000000000003, 1.905255888325765, 'Positive'),\n",
       "  Text(1.2000000000000004, 2.078460969082653, 'Negative'),\n",
       "  Text(-1.199999999999999, -2.0784609690826534, 'Neutral')],\n",
       " [Text(0.6000000000000001, 1.0392304845413263, ' 0.0%'),\n",
       "  Text(0.7000000000000002, 1.212435565298214, ' 0.0%'),\n",
       "  Text(-0.6999999999999995, -1.2124355652982142, '100.0%')])"
      ]
     },
     "execution_count": 20,
     "metadata": {},
     "output_type": "execute_result"
    },
    {
     "data": {
      "image/png": "[encoded data removed]",
      "text/plain": [
       "<Figure size 432x288 with 1 Axes>"
      ]
     },
     "metadata": {},
     "output_type": "display_data"
    }
   ],
   "source": [
    "### plot piechart for the sentiment output\n",
    "\n",
    "plt.pie([pos_reviews, neg_reviews, neu_reviews], labels=[\"Positive\", \"Negative\", \"Neutral\"],\n",
    "       explode=(0, 0.2, 0.2), autopct='%4.1f%%', shadow=True, startangle=60, radius=2)"
   ]
  },
  {
   "cell_type": "markdown",
   "id": "e0e5445d",
   "metadata": {},
   "source": [
    "### Remark\n",
    "from above plot we can see that porportion of positive, neutral and negative reviews are quite unusal. To get better result, I intend to use feature engineering to train respective machine learning classifier to predict unlabled review data."
   ]
  },
  {
   "cell_type": "code",
   "execution_count": 38,
   "id": "5024b376",
   "metadata": {},
   "outputs": [
    {
     "name": "stdout",
     "output_type": "stream",
     "text": [
      "==========================================================\n"
     ]
    },
    {
     "data": {
      "text/plain": [
       "<AxesSubplot:ylabel='sentiment_label'>"
      ]
     },
     "execution_count": 38,
     "metadata": {},
     "output_type": "execute_result"
    },
    {
     "data": {
      "image/png": "[encoded data removed]",
      "text/plain": [
       "<Figure size 432x288 with 1 Axes>"
      ]
     },
     "metadata": {},
     "output_type": "display_data"
    }
   ],
   "source": [
    "## another way of assigning sentiment label to reviews\n",
    "\n",
    "def sentiment_labeler(score):\n",
    "    if (score==5) or (score==4):\n",
    "        return \"Positive\"\n",
    "    elif (score==3):\n",
    "        return \"Neutral\"\n",
    "    else:\n",
    "        return \"Negative\"\n",
    "    \n",
    "sent_data[\"sentiment_label\"]=sent_data[\"Ratings\"].apply(sentiment_labeler)\n",
    "print(\"==========================================================\")\n",
    "sent_data[\"sentiment_label\"].value_counts().sort_values().plot.pie()"
   ]
  },
  {
   "cell_type": "code",
   "execution_count": 49,
   "id": "b20cec25",
   "metadata": {},
   "outputs": [
    {
     "name": "stdout",
     "output_type": "stream",
     "text": [
      "====================================\n",
      "size of splitted train data: \n",
      " (212, 6)\n",
      "====================================\n",
      "size of splitted test data: \n",
      " (54, 6)\n"
     ]
    }
   ],
   "source": [
    "### data preparing\n",
    "\n",
    "from sklearn.model_selection import StratifiedShuffleSplit\n",
    "\n",
    "split_data=StratifiedShuffleSplit(n_splits=5, test_size=0.2)\n",
    "for tr_indx, ts_indx in split_data.split(sent_data, sent_data[\"Ratings\"]):\n",
    "    train_data=sent_data.reindex(tr_indx)\n",
    "    test_data=sent_data.reindex(ts_indx)\n",
    "\n",
    "print(\"====================================\")\n",
    "print(\"size of splitted train data: \\n\", train_data.shape)\n",
    "print(\"====================================\")\n",
    "print(\"size of splitted test data: \\n\", test_data.shape)"
   ]
  },
  {
   "cell_type": "code",
   "execution_count": 47,
   "id": "83993dc4",
   "metadata": {},
   "outputs": [
    {
     "name": "stdout",
     "output_type": "stream",
     "text": [
      "sanity check for porportion of diff scale rating: \n",
      " The media could not be loaded.                                                                                                                                                                                                                                                                                                                                                                                                                                                                                                                                      0.292453\n",
      " I love this bottle and I use it regularly, especially in summers when more water intake is a must. It looks great and built is sturdy. It’s very easy to carry, doesn’t feel heavy because of the design. Color and matt finish is a bonus. Thank you Boldfit!                                                                                                                                                                                                                                                                                                     0.108491\n",
      "I was looking for bottle storing large capacity of water,made from food grade BPA free plastic and fancy gallon bottle.This is the gallon bottle which fulfill my all demands infact have more qualities like it is leakproof , sturdiness and boldfit have wide range of gallon bottle color and design.The material they have use in the bottle is outstanding long lasting and BPA free plastic which is safe for health. I was searching for best gift to gift my brother for his hostel and gym life.And then I found this.He is too happy with the bottle.    0.099057\n",
      " Durable and unique gallon bottle.                                                                                                                                                                                                                                                                                                                                                                                                                                                                                                                                  0.094340\n",
      " I absolutely loved the gallon bottle. We need to carry max water these days. It can store water for a day. Very easy to handle. Material used is of great quality.  I loved everything about it. Worth for the money. Must buy.                                                                                                                                                                                                                                                                                                                                    0.084906\n",
      "Name: Reviews, dtype: float64\n",
      "=================================================\n",
      "sanity check for porportion of diff scale rating in training data: \n",
      " The media could not be loaded.                                                                                                                                                                                                                                                                                                                                                                                                                                                                                                                                      0.292453\n",
      " I love this bottle and I use it regularly, especially in summers when more water intake is a must. It looks great and built is sturdy. It’s very easy to carry, doesn’t feel heavy because of the design. Color and matt finish is a bonus. Thank you Boldfit!                                                                                                                                                                                                                                                                                                     0.108491\n",
      "I was looking for bottle storing large capacity of water,made from food grade BPA free plastic and fancy gallon bottle.This is the gallon bottle which fulfill my all demands infact have more qualities like it is leakproof , sturdiness and boldfit have wide range of gallon bottle color and design.The material they have use in the bottle is outstanding long lasting and BPA free plastic which is safe for health. I was searching for best gift to gift my brother for his hostel and gym life.And then I found this.He is too happy with the bottle.    0.099057\n",
      " Durable and unique gallon bottle.                                                                                                                                                                                                                                                                                                                                                                                                                                                                                                                                  0.094340\n",
      " I absolutely loved the gallon bottle. We need to carry max water these days. It can store water for a day. Very easy to handle. Material used is of great quality.  I loved everything about it. Worth for the money. Must buy.                                                                                                                                                                                                                                                                                                                                    0.084906\n",
      "Name: Reviews, dtype: float64\n"
     ]
    }
   ],
   "source": [
    "## sanity check\n",
    "tr_data_stats= train_data[\"Reviews\"].value_counts()/len(train_data)\n",
    "\n",
    "print(\"sanity check for porportion of diff scale rating: \\n\", tr_data_stats)\n",
    "\n",
    "print(\"=================================================\")\n",
    "ts_data_stats= test_data[\"Reviews\"].value_counts()/len(test_data)\n",
    "\n",
    "print(\"sanity check for porportion of diff scale rating in training data: \\n\", tr_data_stats)"
   ]
  },
  {
   "cell_type": "markdown",
   "id": "d0fe44c4",
   "metadata": {},
   "source": [
    "### prepare data"
   ]
  },
  {
   "cell_type": "code",
   "execution_count": 62,
   "id": "37aafbc7",
   "metadata": {},
   "outputs": [
    {
     "name": "stdout",
     "output_type": "stream",
     "text": [
      "dim of training data:\n",
      " (212,)\n",
      "================================\n",
      "dim of testing data:\n",
      " (54,)\n"
     ]
    }
   ],
   "source": [
    "X_train=train_data['Reviews']\n",
    "y_train=train_data[\"sentiment_label\"]\n",
    "X_test=test_data[\"Reviews\"]\n",
    "y_test=test_data[\"sentiment_label\"]\n",
    "print(\"dim of training data:\\n\", X_train.shape)\n",
    "print(\"================================\")\n",
    "print(\"dim of testing data:\\n\", X_test.shape)"
   ]
  },
  {
   "cell_type": "markdown",
   "id": "eebe37e2",
   "metadata": {},
   "source": [
    "### Feature Engineering"
   ]
  },
  {
   "cell_type": "code",
   "execution_count": 63,
   "id": "8bbc5f8e",
   "metadata": {},
   "outputs": [
    {
     "name": "stdout",
     "output_type": "stream",
     "text": [
      "dim of bag of words: \n",
      " (212, 112)\n",
      "===========================================\n",
      "===========================================\n",
      "tfidf for X_train   (0, 4)\t0.4082482904638631\n",
      "  (0, 18)\t0.4082482904638631\n",
      "  (0, 60)\t0.4082482904638631\n",
      "  (0, 70)\t0.4082482904638631\n",
      "  (0, 76)\t0.4082482904638631\n",
      "  (0, 92)\t0.4082482904638631\n",
      "  (2, 2)\t0.0657951694959769\n",
      "  (2, 3)\t0.39477101697586137\n",
      "  (2, 6)\t0.0657951694959769\n",
      "  (2, 7)\t0.0657951694959769\n",
      "  (2, 9)\t0.39477101697586137\n",
      "  (2, 10)\t0.1315903389919538\n",
      "  (2, 11)\t0.0657951694959769\n",
      "  (2, 15)\t0.0657951694959769\n",
      "  (2, 17)\t0.0657951694959769\n",
      "  (2, 21)\t0.0657951694959769\n",
      "  (2, 22)\t0.0657951694959769\n",
      "  (2, 28)\t0.0657951694959769\n",
      "  (2, 31)\t0.0657951694959769\n",
      "  (2, 32)\t0.2631806779839076\n",
      "  (2, 33)\t0.0657951694959769\n",
      "  (2, 34)\t0.1315903389919538\n",
      "  (2, 35)\t0.0657951694959769\n",
      "  (2, 36)\t0.0657951694959769\n",
      "  (2, 37)\t0.19738550848793068\n",
      "  :\t:\n",
      "  (207, 60)\t0.4082482904638631\n",
      "  (207, 70)\t0.4082482904638631\n",
      "  (207, 76)\t0.4082482904638631\n",
      "  (207, 92)\t0.4082482904638631\n",
      "  (208, 4)\t0.4082482904638631\n",
      "  (208, 18)\t0.4082482904638631\n",
      "  (208, 60)\t0.4082482904638631\n",
      "  (208, 70)\t0.4082482904638631\n",
      "  (208, 76)\t0.4082482904638631\n",
      "  (208, 92)\t0.4082482904638631\n",
      "  (209, 3)\t0.4472135954999579\n",
      "  (209, 9)\t0.4472135954999579\n",
      "  (209, 24)\t0.4472135954999579\n",
      "  (209, 37)\t0.4472135954999579\n",
      "  (209, 99)\t0.4472135954999579\n",
      "  (210, 3)\t0.4472135954999579\n",
      "  (210, 9)\t0.4472135954999579\n",
      "  (210, 24)\t0.4472135954999579\n",
      "  (210, 37)\t0.4472135954999579\n",
      "  (210, 99)\t0.4472135954999579\n",
      "  (211, 3)\t0.4472135954999579\n",
      "  (211, 9)\t0.4472135954999579\n",
      "  (211, 24)\t0.4472135954999579\n",
      "  (211, 37)\t0.4472135954999579\n",
      "  (211, 99)\t0.4472135954999579\n"
     ]
    }
   ],
   "source": [
    "## feature 1: bag of words\n",
    "from  sklearn.feature_extraction.text import CountVectorizer\n",
    "from sklearn.feature_extraction.text import TfidfTransformer\n",
    "\n",
    "X_train=X_train.fillna(' ')\n",
    "X_test=X_test.fillna(' ')\n",
    "y_train=y_train.fillna(' ')\n",
    "y_test=y_test.fillna(' ')\n",
    "\n",
    "X_train_cnts=CountVectorizer().fit_transform(X_train)\n",
    "print(\"dim of bag of words: \\n\", X_train_cnts.shape)\n",
    "print(\"===========================================\")\n",
    "print(\"===========================================\")\n",
    "\n",
    "Tfidf=TfidfTransformer(use_idf=False)\n",
    "X_train_tfidf=Tfidf.fit_transform(X_train_cnts)\n",
    "print(\"tfidf for X_train\", X_train_tfidf)"
   ]
  },
  {
   "cell_type": "code",
   "execution_count": 64,
   "id": "dc6ff014",
   "metadata": {},
   "outputs": [],
   "source": [
    "### build machine learning models from extracted bag of words features\n",
    "\n",
    "from sklearn.naive_bayes import MultinomialNB\n",
    "from sklearn.metrics import classification_report\n",
    "from sklearn.linear_model import LogisticRegression\n",
    "from sklearn.naive_bayes import MultinomialNB\n",
    "from sklearn.ensemble import RandomForestClassifier\n",
    "from sklearn.svm import LinearSVC\n",
    "from sklearn.tree import DecisionTreeClassifier\n",
    "from sklearn import linear_model\n",
    "from sklearn.pipeline import Pipeline\n",
    "from sklearn import metrics"
   ]
  },
  {
   "cell_type": "code",
   "execution_count": 70,
   "id": "5d510554",
   "metadata": {},
   "outputs": [
    {
     "name": "stdout",
     "output_type": "stream",
     "text": [
      "accuracy metrics for training naive bayes classifier:\n",
      "               precision    recall  f1-score   support\n",
      "\n",
      "           1       0.00      0.00      0.00        20\n",
      "           0       0.57      0.79      0.67        34\n",
      "\n",
      "    accuracy                           0.50        54\n",
      "   macro avg       0.29      0.40      0.33        54\n",
      "weighted avg       0.36      0.50      0.42        54\n",
      "\n",
      "======================================================================================\n",
      "accuracy metrics for logistic regression classifier:\n",
      "               precision    recall  f1-score   support\n",
      "\n",
      "           1       1.00      1.00      1.00        20\n",
      "           0       1.00      1.00      1.00        34\n",
      "\n",
      "    accuracy                           1.00        54\n",
      "   macro avg       1.00      1.00      1.00        54\n",
      "weighted avg       1.00      1.00      1.00        54\n",
      "\n",
      "======================================================================================\n",
      "accuracy metrics for SGD classifier:\n",
      "               precision    recall  f1-score   support\n",
      "\n",
      "           1       1.00      1.00      1.00        20\n",
      "           0       1.00      1.00      1.00        34\n",
      "\n",
      "    accuracy                           1.00        54\n",
      "   macro avg       1.00      1.00      1.00        54\n",
      "weighted avg       1.00      1.00      1.00        54\n",
      "\n",
      "======================================================================================\n",
      "accuracy metrics for SVC classifier:\n",
      "               precision    recall  f1-score   support\n",
      "\n",
      "           1       1.00      1.00      1.00        20\n",
      "           0       1.00      1.00      1.00        34\n",
      "\n",
      "    accuracy                           1.00        54\n",
      "   macro avg       1.00      1.00      1.00        54\n",
      "weighted avg       1.00      1.00      1.00        54\n",
      "\n",
      "======================================================================================\n",
      "accuracy metrics for decision tree classifier:\n",
      "               precision    recall  f1-score   support\n",
      "\n",
      "           1       1.00      1.00      1.00        20\n",
      "           0       1.00      1.00      1.00        34\n",
      "\n",
      "    accuracy                           1.00        54\n",
      "   macro avg       1.00      1.00      1.00        54\n",
      "weighted avg       1.00      1.00      1.00        54\n",
      "\n",
      "======================================================================================\n",
      "accuracy metrics for random forest classifier:\n",
      "               precision    recall  f1-score   support\n",
      "\n",
      "           1       1.00      1.00      1.00        20\n",
      "           0       1.00      1.00      1.00        34\n",
      "\n",
      "    accuracy                           1.00        54\n",
      "   macro avg       1.00      1.00      1.00        54\n",
      "weighted avg       1.00      1.00      1.00        54\n",
      "\n"
     ]
    }
   ],
   "source": [
    "## use multinomial NB classifier\n",
    "clf_multiNB_pipe = Pipeline([(\"vect\", CountVectorizer()), (\"tfidf\", TfidfTransformer()), (\"clf_nominalNB\", MultinomialNB())])\n",
    "clf_multiNB_pipe.fit(X_train,y_train)\n",
    "predicted_nb = clf_multiNB_pipe.predict(X_test)\n",
    "print(\"accuracy metrics for training naive bayes classifier:\\n\",metrics.classification_report(y_test, predicted_nb, target_names = ['1','0']))\n",
    "print(\"======================================================================================\")\n",
    "\n",
    "# ## use logistic regression\n",
    "LR = LogisticRegression()\n",
    "# text_pipe_LR = Pipeline([('tfidf', TfidfVectorizer()), ('LR', LR)])\n",
    "clf_logitReg_pipe = Pipeline([(\"vect\", CountVectorizer()), (\"tfidf\", TfidfTransformer()), (\"clf_logitReg\", LogisticRegression())])\n",
    "clf_logitReg_pipe.fit(X_train,y_train)\n",
    "predicted_lr = clf_logitReg_pipe.predict(X_test)\n",
    "print(\"accuracy metrics for logistic regression classifier:\\n\",metrics.classification_report(y_test, predicted_lr, target_names = ['1','0']))\n",
    "print(\"======================================================================================\")\n",
    "# ## use SGD classifier\n",
    "sgd_clf = linear_model.SGDClassifier(max_iter=1000)\n",
    "clf_sgd_pipe = Pipeline([(\"vect\", CountVectorizer()), (\"tfidf\", TfidfTransformer()), (\"clf_SGD\", sgd_clf)])\n",
    "clf_sgd_pipe.fit(X_train,y_train)\n",
    "predicted_sgd = clf_sgd_pipe.predict(X_test)\n",
    "print(\"accuracy metrics for SGD classifier:\\n\",metrics.classification_report(y_test, predicted_sgd, target_names = ['1','0']))\n",
    "\n",
    "print(\"======================================================================================\")\n",
    "# ## use SVC classifier\n",
    "clf_svc_pipe = Pipeline([(\"vect\", CountVectorizer()), (\"tfidf\", TfidfTransformer()), (\"clf_svc\", LinearSVC())])\n",
    "clf_svc_pipe.fit(X_train,y_train)\n",
    "predicted_svc = clf_svc_pipe.predict(X_test)\n",
    "print(\"accuracy metrics for SVC classifier:\\n\",metrics.classification_report(y_test, predicted_svc, target_names = ['1','0']))\n",
    "\n",
    "print(\"======================================================================================\")\n",
    "# ## use decision tree classifier\n",
    "clf_dt_pipe = Pipeline([(\"vect\", CountVectorizer()), (\"tfidf\", TfidfTransformer()), (\"clf_dt\", DecisionTreeClassifier())])\n",
    "clf_dt_pipe.fit(X_train,y_train)\n",
    "predicted_dt = clf_dt_pipe.predict(X_test)\n",
    "print(\"accuracy metrics for decision tree classifier:\\n\",metrics.classification_report(y_test, predicted_dt, target_names = ['1','0']))\n",
    "\n",
    "print(\"======================================================================================\")\n",
    "# ## use random forest classifier\n",
    "clf_randforest_pipe = Pipeline([(\"vect\", CountVectorizer()), (\"tfidf\", TfidfTransformer()), (\"clf_randforest\", RandomForestClassifier())])\n",
    "clf_randforest_pipe.fit(X_train,y_train)\n",
    "predicted_randforest = clf_randforest_pipe.predict(X_test)\n",
    "print(\"accuracy metrics for random forest classifier:\\n\",metrics.classification_report(y_test, predicted_randforest, target_names = ['1','0']))"
   ]
  },
  {
   "cell_type": "code",
   "execution_count": null,
   "id": "3ad3a9b4",
   "metadata": {},
   "outputs": [],
   "source": []
  }
 ],
 "metadata": {
  "kernelspec": {
   "display_name": "Python 3 (ipykernel)",
   "language": "python",
   "name": "python3"
  },
  "language_info": {
   "codemirror_mode": {
    "name": "ipython",
    "version": 3
   },
   "file_extension": ".py",
   "mimetype": "text/x-python",
   "name": "python",
   "nbconvert_exporter": "python",
   "pygments_lexer": "ipython3",
   "version": "3.9.12"
  }
 },
 "nbformat": 4,
 "nbformat_minor": 5
}
